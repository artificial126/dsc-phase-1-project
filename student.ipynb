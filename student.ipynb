{
 "cells": [
  {
   "cell_type": "markdown",
   "metadata": {},
   "source": [
    "## Final Project Submission\n",
    "\n",
    "Please fill out:\n",
    "* Student name:  Huseyin Caglar\n",
    "* Student pace: Part time\n",
    "* Scheduled project review date/time:  \n",
    "* Instructor name: Claude Fried\n",
    "* Blog post URL:\n"
   ]
  },
  {
   "cell_type": "code",
   "execution_count": 1,
   "metadata": {
    "ExecuteTime": {
     "end_time": "2021-08-20T20:05:28.506499Z",
     "start_time": "2021-08-20T20:05:27.581767Z"
    }
   },
   "outputs": [],
   "source": [
    "import os \n",
    "import pandas as pd\n",
    "import seaborn as sns\n",
    "import matplotlib.pyplot as plt\n",
    "%matplotlib inline"
   ]
  },
  {
   "cell_type": "markdown",
   "metadata": {},
   "source": [
    "## Looking inside Data Frames"
   ]
  },
  {
   "cell_type": "code",
   "execution_count": 2,
   "metadata": {
    "ExecuteTime": {
     "end_time": "2021-08-20T20:05:31.378376Z",
     "start_time": "2021-08-20T20:05:28.507516Z"
    }
   },
   "outputs": [],
   "source": [
    "# Loading Data \n",
    "df_movie_gross=pd.read_csv('zippedData/bom.movie_gross.csv.gz')\n",
    "df_names=pd.read_csv('zippedData/imdb.name.basics.csv.gz')\n",
    "df_title_akas=pd.read_csv('zippedData/imdb.title.akas.csv.gz')\n",
    "df_titles=pd.read_csv('zippedData/imdb.title.basics.csv.gz')\n",
    "df_crew=pd.read_csv('zippedData/imdb.title.crew.csv.gz')\n",
    "df_principals=pd.read_csv('zippedData/imdb.title.principals.csv.gz')\n",
    "df_ratings=pd.read_csv('zippedData/imdb.title.ratings.csv.gz')\n",
    "df_movie_info=pd.read_csv('zippedData/rt.movie_info.tsv.gz',sep='\\t',encoding='latin1')\n",
    "df_reviews=pd.read_csv('zippedData/rt.reviews.tsv.gz',sep='\\t',encoding='latin1')\n",
    "df_movies=pd.read_csv('zippedData/tmdb.movies.csv.gz')\n",
    "df_budgets=pd.read_csv('zippedData/tn.movie_budgets.csv.gz')"
   ]
  },
  {
   "cell_type": "markdown",
   "metadata": {},
   "source": [
    "### Movie Gross"
   ]
  },
  {
   "cell_type": "code",
   "execution_count": 3,
   "metadata": {
    "ExecuteTime": {
     "end_time": "2021-08-20T20:05:31.394305Z",
     "start_time": "2021-08-20T20:05:31.379344Z"
    }
   },
   "outputs": [
    {
     "data": {
      "text/html": [
       "<div>\n",
       "<style scoped>\n",
       "    .dataframe tbody tr th:only-of-type {\n",
       "        vertical-align: middle;\n",
       "    }\n",
       "\n",
       "    .dataframe tbody tr th {\n",
       "        vertical-align: top;\n",
       "    }\n",
       "\n",
       "    .dataframe thead th {\n",
       "        text-align: right;\n",
       "    }\n",
       "</style>\n",
       "<table border=\"1\" class=\"dataframe\">\n",
       "  <thead>\n",
       "    <tr style=\"text-align: right;\">\n",
       "      <th></th>\n",
       "      <th>title</th>\n",
       "      <th>studio</th>\n",
       "      <th>domestic_gross</th>\n",
       "      <th>foreign_gross</th>\n",
       "      <th>year</th>\n",
       "    </tr>\n",
       "  </thead>\n",
       "  <tbody>\n",
       "    <tr>\n",
       "      <th>0</th>\n",
       "      <td>Toy Story 3</td>\n",
       "      <td>BV</td>\n",
       "      <td>415000000.0</td>\n",
       "      <td>652000000</td>\n",
       "      <td>2010</td>\n",
       "    </tr>\n",
       "    <tr>\n",
       "      <th>1</th>\n",
       "      <td>Alice in Wonderland (2010)</td>\n",
       "      <td>BV</td>\n",
       "      <td>334200000.0</td>\n",
       "      <td>691300000</td>\n",
       "      <td>2010</td>\n",
       "    </tr>\n",
       "    <tr>\n",
       "      <th>2</th>\n",
       "      <td>Harry Potter and the Deathly Hallows Part 1</td>\n",
       "      <td>WB</td>\n",
       "      <td>296000000.0</td>\n",
       "      <td>664300000</td>\n",
       "      <td>2010</td>\n",
       "    </tr>\n",
       "    <tr>\n",
       "      <th>3</th>\n",
       "      <td>Inception</td>\n",
       "      <td>WB</td>\n",
       "      <td>292600000.0</td>\n",
       "      <td>535700000</td>\n",
       "      <td>2010</td>\n",
       "    </tr>\n",
       "    <tr>\n",
       "      <th>4</th>\n",
       "      <td>Shrek Forever After</td>\n",
       "      <td>P/DW</td>\n",
       "      <td>238700000.0</td>\n",
       "      <td>513900000</td>\n",
       "      <td>2010</td>\n",
       "    </tr>\n",
       "  </tbody>\n",
       "</table>\n",
       "</div>"
      ],
      "text/plain": [
       "                                         title studio  domestic_gross  \\\n",
       "0                                  Toy Story 3     BV     415000000.0   \n",
       "1                   Alice in Wonderland (2010)     BV     334200000.0   \n",
       "2  Harry Potter and the Deathly Hallows Part 1     WB     296000000.0   \n",
       "3                                    Inception     WB     292600000.0   \n",
       "4                          Shrek Forever After   P/DW     238700000.0   \n",
       "\n",
       "  foreign_gross  year  \n",
       "0     652000000  2010  \n",
       "1     691300000  2010  \n",
       "2     664300000  2010  \n",
       "3     535700000  2010  \n",
       "4     513900000  2010  "
      ]
     },
     "execution_count": 3,
     "metadata": {},
     "output_type": "execute_result"
    }
   ],
   "source": [
    "df_movie_gross.head()"
   ]
  },
  {
   "cell_type": "markdown",
   "metadata": {},
   "source": [
    "### Names"
   ]
  },
  {
   "cell_type": "code",
   "execution_count": 4,
   "metadata": {
    "ExecuteTime": {
     "end_time": "2021-08-20T20:05:31.409265Z",
     "start_time": "2021-08-20T20:05:31.395302Z"
    },
    "scrolled": true
   },
   "outputs": [
    {
     "data": {
      "text/html": [
       "<div>\n",
       "<style scoped>\n",
       "    .dataframe tbody tr th:only-of-type {\n",
       "        vertical-align: middle;\n",
       "    }\n",
       "\n",
       "    .dataframe tbody tr th {\n",
       "        vertical-align: top;\n",
       "    }\n",
       "\n",
       "    .dataframe thead th {\n",
       "        text-align: right;\n",
       "    }\n",
       "</style>\n",
       "<table border=\"1\" class=\"dataframe\">\n",
       "  <thead>\n",
       "    <tr style=\"text-align: right;\">\n",
       "      <th></th>\n",
       "      <th>nconst</th>\n",
       "      <th>primary_name</th>\n",
       "      <th>birth_year</th>\n",
       "      <th>death_year</th>\n",
       "      <th>primary_profession</th>\n",
       "      <th>known_for_titles</th>\n",
       "    </tr>\n",
       "  </thead>\n",
       "  <tbody>\n",
       "    <tr>\n",
       "      <th>0</th>\n",
       "      <td>nm0061671</td>\n",
       "      <td>Mary Ellen Bauder</td>\n",
       "      <td>NaN</td>\n",
       "      <td>NaN</td>\n",
       "      <td>miscellaneous,production_manager,producer</td>\n",
       "      <td>tt0837562,tt2398241,tt0844471,tt0118553</td>\n",
       "    </tr>\n",
       "    <tr>\n",
       "      <th>1</th>\n",
       "      <td>nm0061865</td>\n",
       "      <td>Joseph Bauer</td>\n",
       "      <td>NaN</td>\n",
       "      <td>NaN</td>\n",
       "      <td>composer,music_department,sound_department</td>\n",
       "      <td>tt0896534,tt6791238,tt0287072,tt1682940</td>\n",
       "    </tr>\n",
       "    <tr>\n",
       "      <th>2</th>\n",
       "      <td>nm0062070</td>\n",
       "      <td>Bruce Baum</td>\n",
       "      <td>NaN</td>\n",
       "      <td>NaN</td>\n",
       "      <td>miscellaneous,actor,writer</td>\n",
       "      <td>tt1470654,tt0363631,tt0104030,tt0102898</td>\n",
       "    </tr>\n",
       "    <tr>\n",
       "      <th>3</th>\n",
       "      <td>nm0062195</td>\n",
       "      <td>Axel Baumann</td>\n",
       "      <td>NaN</td>\n",
       "      <td>NaN</td>\n",
       "      <td>camera_department,cinematographer,art_department</td>\n",
       "      <td>tt0114371,tt2004304,tt1618448,tt1224387</td>\n",
       "    </tr>\n",
       "    <tr>\n",
       "      <th>4</th>\n",
       "      <td>nm0062798</td>\n",
       "      <td>Pete Baxter</td>\n",
       "      <td>NaN</td>\n",
       "      <td>NaN</td>\n",
       "      <td>production_designer,art_department,set_decorator</td>\n",
       "      <td>tt0452644,tt0452692,tt3458030,tt2178256</td>\n",
       "    </tr>\n",
       "  </tbody>\n",
       "</table>\n",
       "</div>"
      ],
      "text/plain": [
       "      nconst       primary_name  birth_year  death_year  \\\n",
       "0  nm0061671  Mary Ellen Bauder         NaN         NaN   \n",
       "1  nm0061865       Joseph Bauer         NaN         NaN   \n",
       "2  nm0062070         Bruce Baum         NaN         NaN   \n",
       "3  nm0062195       Axel Baumann         NaN         NaN   \n",
       "4  nm0062798        Pete Baxter         NaN         NaN   \n",
       "\n",
       "                                 primary_profession  \\\n",
       "0         miscellaneous,production_manager,producer   \n",
       "1        composer,music_department,sound_department   \n",
       "2                        miscellaneous,actor,writer   \n",
       "3  camera_department,cinematographer,art_department   \n",
       "4  production_designer,art_department,set_decorator   \n",
       "\n",
       "                          known_for_titles  \n",
       "0  tt0837562,tt2398241,tt0844471,tt0118553  \n",
       "1  tt0896534,tt6791238,tt0287072,tt1682940  \n",
       "2  tt1470654,tt0363631,tt0104030,tt0102898  \n",
       "3  tt0114371,tt2004304,tt1618448,tt1224387  \n",
       "4  tt0452644,tt0452692,tt3458030,tt2178256  "
      ]
     },
     "execution_count": 4,
     "metadata": {},
     "output_type": "execute_result"
    }
   ],
   "source": [
    "df_names.head()"
   ]
  },
  {
   "cell_type": "markdown",
   "metadata": {},
   "source": [
    "### Title Akas"
   ]
  },
  {
   "cell_type": "code",
   "execution_count": 5,
   "metadata": {
    "ExecuteTime": {
     "end_time": "2021-08-20T20:05:31.425222Z",
     "start_time": "2021-08-20T20:05:31.411258Z"
    }
   },
   "outputs": [
    {
     "data": {
      "text/html": [
       "<div>\n",
       "<style scoped>\n",
       "    .dataframe tbody tr th:only-of-type {\n",
       "        vertical-align: middle;\n",
       "    }\n",
       "\n",
       "    .dataframe tbody tr th {\n",
       "        vertical-align: top;\n",
       "    }\n",
       "\n",
       "    .dataframe thead th {\n",
       "        text-align: right;\n",
       "    }\n",
       "</style>\n",
       "<table border=\"1\" class=\"dataframe\">\n",
       "  <thead>\n",
       "    <tr style=\"text-align: right;\">\n",
       "      <th></th>\n",
       "      <th>title_id</th>\n",
       "      <th>ordering</th>\n",
       "      <th>title</th>\n",
       "      <th>region</th>\n",
       "      <th>language</th>\n",
       "      <th>types</th>\n",
       "      <th>attributes</th>\n",
       "      <th>is_original_title</th>\n",
       "    </tr>\n",
       "  </thead>\n",
       "  <tbody>\n",
       "    <tr>\n",
       "      <th>0</th>\n",
       "      <td>tt0369610</td>\n",
       "      <td>10</td>\n",
       "      <td>Джурасик свят</td>\n",
       "      <td>BG</td>\n",
       "      <td>bg</td>\n",
       "      <td>NaN</td>\n",
       "      <td>NaN</td>\n",
       "      <td>0.0</td>\n",
       "    </tr>\n",
       "    <tr>\n",
       "      <th>1</th>\n",
       "      <td>tt0369610</td>\n",
       "      <td>11</td>\n",
       "      <td>Jurashikku warudo</td>\n",
       "      <td>JP</td>\n",
       "      <td>NaN</td>\n",
       "      <td>imdbDisplay</td>\n",
       "      <td>NaN</td>\n",
       "      <td>0.0</td>\n",
       "    </tr>\n",
       "    <tr>\n",
       "      <th>2</th>\n",
       "      <td>tt0369610</td>\n",
       "      <td>12</td>\n",
       "      <td>Jurassic World: O Mundo dos Dinossauros</td>\n",
       "      <td>BR</td>\n",
       "      <td>NaN</td>\n",
       "      <td>imdbDisplay</td>\n",
       "      <td>NaN</td>\n",
       "      <td>0.0</td>\n",
       "    </tr>\n",
       "    <tr>\n",
       "      <th>3</th>\n",
       "      <td>tt0369610</td>\n",
       "      <td>13</td>\n",
       "      <td>O Mundo dos Dinossauros</td>\n",
       "      <td>BR</td>\n",
       "      <td>NaN</td>\n",
       "      <td>NaN</td>\n",
       "      <td>short title</td>\n",
       "      <td>0.0</td>\n",
       "    </tr>\n",
       "    <tr>\n",
       "      <th>4</th>\n",
       "      <td>tt0369610</td>\n",
       "      <td>14</td>\n",
       "      <td>Jurassic World</td>\n",
       "      <td>FR</td>\n",
       "      <td>NaN</td>\n",
       "      <td>imdbDisplay</td>\n",
       "      <td>NaN</td>\n",
       "      <td>0.0</td>\n",
       "    </tr>\n",
       "  </tbody>\n",
       "</table>\n",
       "</div>"
      ],
      "text/plain": [
       "    title_id  ordering                                    title region  \\\n",
       "0  tt0369610        10                            Джурасик свят     BG   \n",
       "1  tt0369610        11                        Jurashikku warudo     JP   \n",
       "2  tt0369610        12  Jurassic World: O Mundo dos Dinossauros     BR   \n",
       "3  tt0369610        13                  O Mundo dos Dinossauros     BR   \n",
       "4  tt0369610        14                           Jurassic World     FR   \n",
       "\n",
       "  language        types   attributes  is_original_title  \n",
       "0       bg          NaN          NaN                0.0  \n",
       "1      NaN  imdbDisplay          NaN                0.0  \n",
       "2      NaN  imdbDisplay          NaN                0.0  \n",
       "3      NaN          NaN  short title                0.0  \n",
       "4      NaN  imdbDisplay          NaN                0.0  "
      ]
     },
     "execution_count": 5,
     "metadata": {},
     "output_type": "execute_result"
    }
   ],
   "source": [
    "df_title_akas.head()"
   ]
  },
  {
   "cell_type": "markdown",
   "metadata": {},
   "source": [
    "### Titles"
   ]
  },
  {
   "cell_type": "code",
   "execution_count": 6,
   "metadata": {
    "ExecuteTime": {
     "end_time": "2021-08-20T20:05:31.440201Z",
     "start_time": "2021-08-20T20:05:31.427218Z"
    }
   },
   "outputs": [
    {
     "data": {
      "text/html": [
       "<div>\n",
       "<style scoped>\n",
       "    .dataframe tbody tr th:only-of-type {\n",
       "        vertical-align: middle;\n",
       "    }\n",
       "\n",
       "    .dataframe tbody tr th {\n",
       "        vertical-align: top;\n",
       "    }\n",
       "\n",
       "    .dataframe thead th {\n",
       "        text-align: right;\n",
       "    }\n",
       "</style>\n",
       "<table border=\"1\" class=\"dataframe\">\n",
       "  <thead>\n",
       "    <tr style=\"text-align: right;\">\n",
       "      <th></th>\n",
       "      <th>tconst</th>\n",
       "      <th>primary_title</th>\n",
       "      <th>original_title</th>\n",
       "      <th>start_year</th>\n",
       "      <th>runtime_minutes</th>\n",
       "      <th>genres</th>\n",
       "    </tr>\n",
       "  </thead>\n",
       "  <tbody>\n",
       "    <tr>\n",
       "      <th>0</th>\n",
       "      <td>tt0063540</td>\n",
       "      <td>Sunghursh</td>\n",
       "      <td>Sunghursh</td>\n",
       "      <td>2013</td>\n",
       "      <td>175.0</td>\n",
       "      <td>Action,Crime,Drama</td>\n",
       "    </tr>\n",
       "    <tr>\n",
       "      <th>1</th>\n",
       "      <td>tt0066787</td>\n",
       "      <td>One Day Before the Rainy Season</td>\n",
       "      <td>Ashad Ka Ek Din</td>\n",
       "      <td>2019</td>\n",
       "      <td>114.0</td>\n",
       "      <td>Biography,Drama</td>\n",
       "    </tr>\n",
       "    <tr>\n",
       "      <th>2</th>\n",
       "      <td>tt0069049</td>\n",
       "      <td>The Other Side of the Wind</td>\n",
       "      <td>The Other Side of the Wind</td>\n",
       "      <td>2018</td>\n",
       "      <td>122.0</td>\n",
       "      <td>Drama</td>\n",
       "    </tr>\n",
       "    <tr>\n",
       "      <th>3</th>\n",
       "      <td>tt0069204</td>\n",
       "      <td>Sabse Bada Sukh</td>\n",
       "      <td>Sabse Bada Sukh</td>\n",
       "      <td>2018</td>\n",
       "      <td>NaN</td>\n",
       "      <td>Comedy,Drama</td>\n",
       "    </tr>\n",
       "    <tr>\n",
       "      <th>4</th>\n",
       "      <td>tt0100275</td>\n",
       "      <td>The Wandering Soap Opera</td>\n",
       "      <td>La Telenovela Errante</td>\n",
       "      <td>2017</td>\n",
       "      <td>80.0</td>\n",
       "      <td>Comedy,Drama,Fantasy</td>\n",
       "    </tr>\n",
       "  </tbody>\n",
       "</table>\n",
       "</div>"
      ],
      "text/plain": [
       "      tconst                    primary_title              original_title  \\\n",
       "0  tt0063540                        Sunghursh                   Sunghursh   \n",
       "1  tt0066787  One Day Before the Rainy Season             Ashad Ka Ek Din   \n",
       "2  tt0069049       The Other Side of the Wind  The Other Side of the Wind   \n",
       "3  tt0069204                  Sabse Bada Sukh             Sabse Bada Sukh   \n",
       "4  tt0100275         The Wandering Soap Opera       La Telenovela Errante   \n",
       "\n",
       "   start_year  runtime_minutes                genres  \n",
       "0        2013            175.0    Action,Crime,Drama  \n",
       "1        2019            114.0       Biography,Drama  \n",
       "2        2018            122.0                 Drama  \n",
       "3        2018              NaN          Comedy,Drama  \n",
       "4        2017             80.0  Comedy,Drama,Fantasy  "
      ]
     },
     "execution_count": 6,
     "metadata": {},
     "output_type": "execute_result"
    }
   ],
   "source": [
    "df_titles.head()"
   ]
  },
  {
   "cell_type": "markdown",
   "metadata": {},
   "source": [
    "### Crew"
   ]
  },
  {
   "cell_type": "code",
   "execution_count": 7,
   "metadata": {
    "ExecuteTime": {
     "end_time": "2021-08-20T20:05:31.456139Z",
     "start_time": "2021-08-20T20:05:31.441178Z"
    }
   },
   "outputs": [
    {
     "data": {
      "text/html": [
       "<div>\n",
       "<style scoped>\n",
       "    .dataframe tbody tr th:only-of-type {\n",
       "        vertical-align: middle;\n",
       "    }\n",
       "\n",
       "    .dataframe tbody tr th {\n",
       "        vertical-align: top;\n",
       "    }\n",
       "\n",
       "    .dataframe thead th {\n",
       "        text-align: right;\n",
       "    }\n",
       "</style>\n",
       "<table border=\"1\" class=\"dataframe\">\n",
       "  <thead>\n",
       "    <tr style=\"text-align: right;\">\n",
       "      <th></th>\n",
       "      <th>tconst</th>\n",
       "      <th>directors</th>\n",
       "      <th>writers</th>\n",
       "    </tr>\n",
       "  </thead>\n",
       "  <tbody>\n",
       "    <tr>\n",
       "      <th>0</th>\n",
       "      <td>tt0285252</td>\n",
       "      <td>nm0899854</td>\n",
       "      <td>nm0899854</td>\n",
       "    </tr>\n",
       "    <tr>\n",
       "      <th>1</th>\n",
       "      <td>tt0438973</td>\n",
       "      <td>NaN</td>\n",
       "      <td>nm0175726,nm1802864</td>\n",
       "    </tr>\n",
       "    <tr>\n",
       "      <th>2</th>\n",
       "      <td>tt0462036</td>\n",
       "      <td>nm1940585</td>\n",
       "      <td>nm1940585</td>\n",
       "    </tr>\n",
       "    <tr>\n",
       "      <th>3</th>\n",
       "      <td>tt0835418</td>\n",
       "      <td>nm0151540</td>\n",
       "      <td>nm0310087,nm0841532</td>\n",
       "    </tr>\n",
       "    <tr>\n",
       "      <th>4</th>\n",
       "      <td>tt0878654</td>\n",
       "      <td>nm0089502,nm2291498,nm2292011</td>\n",
       "      <td>nm0284943</td>\n",
       "    </tr>\n",
       "  </tbody>\n",
       "</table>\n",
       "</div>"
      ],
      "text/plain": [
       "      tconst                      directors              writers\n",
       "0  tt0285252                      nm0899854            nm0899854\n",
       "1  tt0438973                            NaN  nm0175726,nm1802864\n",
       "2  tt0462036                      nm1940585            nm1940585\n",
       "3  tt0835418                      nm0151540  nm0310087,nm0841532\n",
       "4  tt0878654  nm0089502,nm2291498,nm2292011            nm0284943"
      ]
     },
     "execution_count": 7,
     "metadata": {},
     "output_type": "execute_result"
    }
   ],
   "source": [
    "df_crew.head()"
   ]
  },
  {
   "cell_type": "markdown",
   "metadata": {},
   "source": [
    "### Principals"
   ]
  },
  {
   "cell_type": "code",
   "execution_count": 8,
   "metadata": {
    "ExecuteTime": {
     "end_time": "2021-08-20T20:05:31.472122Z",
     "start_time": "2021-08-20T20:05:31.457136Z"
    }
   },
   "outputs": [
    {
     "data": {
      "text/html": [
       "<div>\n",
       "<style scoped>\n",
       "    .dataframe tbody tr th:only-of-type {\n",
       "        vertical-align: middle;\n",
       "    }\n",
       "\n",
       "    .dataframe tbody tr th {\n",
       "        vertical-align: top;\n",
       "    }\n",
       "\n",
       "    .dataframe thead th {\n",
       "        text-align: right;\n",
       "    }\n",
       "</style>\n",
       "<table border=\"1\" class=\"dataframe\">\n",
       "  <thead>\n",
       "    <tr style=\"text-align: right;\">\n",
       "      <th></th>\n",
       "      <th>tconst</th>\n",
       "      <th>ordering</th>\n",
       "      <th>nconst</th>\n",
       "      <th>category</th>\n",
       "      <th>job</th>\n",
       "      <th>characters</th>\n",
       "    </tr>\n",
       "  </thead>\n",
       "  <tbody>\n",
       "    <tr>\n",
       "      <th>0</th>\n",
       "      <td>tt0111414</td>\n",
       "      <td>1</td>\n",
       "      <td>nm0246005</td>\n",
       "      <td>actor</td>\n",
       "      <td>NaN</td>\n",
       "      <td>[\"The Man\"]</td>\n",
       "    </tr>\n",
       "    <tr>\n",
       "      <th>1</th>\n",
       "      <td>tt0111414</td>\n",
       "      <td>2</td>\n",
       "      <td>nm0398271</td>\n",
       "      <td>director</td>\n",
       "      <td>NaN</td>\n",
       "      <td>NaN</td>\n",
       "    </tr>\n",
       "    <tr>\n",
       "      <th>2</th>\n",
       "      <td>tt0111414</td>\n",
       "      <td>3</td>\n",
       "      <td>nm3739909</td>\n",
       "      <td>producer</td>\n",
       "      <td>producer</td>\n",
       "      <td>NaN</td>\n",
       "    </tr>\n",
       "    <tr>\n",
       "      <th>3</th>\n",
       "      <td>tt0323808</td>\n",
       "      <td>10</td>\n",
       "      <td>nm0059247</td>\n",
       "      <td>editor</td>\n",
       "      <td>NaN</td>\n",
       "      <td>NaN</td>\n",
       "    </tr>\n",
       "    <tr>\n",
       "      <th>4</th>\n",
       "      <td>tt0323808</td>\n",
       "      <td>1</td>\n",
       "      <td>nm3579312</td>\n",
       "      <td>actress</td>\n",
       "      <td>NaN</td>\n",
       "      <td>[\"Beth Boothby\"]</td>\n",
       "    </tr>\n",
       "  </tbody>\n",
       "</table>\n",
       "</div>"
      ],
      "text/plain": [
       "      tconst  ordering     nconst  category       job        characters\n",
       "0  tt0111414         1  nm0246005     actor       NaN       [\"The Man\"]\n",
       "1  tt0111414         2  nm0398271  director       NaN               NaN\n",
       "2  tt0111414         3  nm3739909  producer  producer               NaN\n",
       "3  tt0323808        10  nm0059247    editor       NaN               NaN\n",
       "4  tt0323808         1  nm3579312   actress       NaN  [\"Beth Boothby\"]"
      ]
     },
     "execution_count": 8,
     "metadata": {},
     "output_type": "execute_result"
    }
   ],
   "source": [
    "df_principals.head()"
   ]
  },
  {
   "cell_type": "markdown",
   "metadata": {},
   "source": [
    "### Ratings"
   ]
  },
  {
   "cell_type": "code",
   "execution_count": 9,
   "metadata": {
    "ExecuteTime": {
     "end_time": "2021-08-20T20:05:31.487056Z",
     "start_time": "2021-08-20T20:05:31.474091Z"
    }
   },
   "outputs": [
    {
     "data": {
      "text/html": [
       "<div>\n",
       "<style scoped>\n",
       "    .dataframe tbody tr th:only-of-type {\n",
       "        vertical-align: middle;\n",
       "    }\n",
       "\n",
       "    .dataframe tbody tr th {\n",
       "        vertical-align: top;\n",
       "    }\n",
       "\n",
       "    .dataframe thead th {\n",
       "        text-align: right;\n",
       "    }\n",
       "</style>\n",
       "<table border=\"1\" class=\"dataframe\">\n",
       "  <thead>\n",
       "    <tr style=\"text-align: right;\">\n",
       "      <th></th>\n",
       "      <th>tconst</th>\n",
       "      <th>averagerating</th>\n",
       "      <th>numvotes</th>\n",
       "    </tr>\n",
       "  </thead>\n",
       "  <tbody>\n",
       "    <tr>\n",
       "      <th>0</th>\n",
       "      <td>tt10356526</td>\n",
       "      <td>8.3</td>\n",
       "      <td>31</td>\n",
       "    </tr>\n",
       "    <tr>\n",
       "      <th>1</th>\n",
       "      <td>tt10384606</td>\n",
       "      <td>8.9</td>\n",
       "      <td>559</td>\n",
       "    </tr>\n",
       "    <tr>\n",
       "      <th>2</th>\n",
       "      <td>tt1042974</td>\n",
       "      <td>6.4</td>\n",
       "      <td>20</td>\n",
       "    </tr>\n",
       "    <tr>\n",
       "      <th>3</th>\n",
       "      <td>tt1043726</td>\n",
       "      <td>4.2</td>\n",
       "      <td>50352</td>\n",
       "    </tr>\n",
       "    <tr>\n",
       "      <th>4</th>\n",
       "      <td>tt1060240</td>\n",
       "      <td>6.5</td>\n",
       "      <td>21</td>\n",
       "    </tr>\n",
       "  </tbody>\n",
       "</table>\n",
       "</div>"
      ],
      "text/plain": [
       "       tconst  averagerating  numvotes\n",
       "0  tt10356526            8.3        31\n",
       "1  tt10384606            8.9       559\n",
       "2   tt1042974            6.4        20\n",
       "3   tt1043726            4.2     50352\n",
       "4   tt1060240            6.5        21"
      ]
     },
     "execution_count": 9,
     "metadata": {},
     "output_type": "execute_result"
    }
   ],
   "source": [
    "df_ratings.head()"
   ]
  },
  {
   "cell_type": "markdown",
   "metadata": {},
   "source": [
    "### Movie Info"
   ]
  },
  {
   "cell_type": "code",
   "execution_count": 10,
   "metadata": {
    "ExecuteTime": {
     "end_time": "2021-08-20T20:05:31.517001Z",
     "start_time": "2021-08-20T20:05:31.489052Z"
    },
    "scrolled": true
   },
   "outputs": [
    {
     "data": {
      "text/html": [
       "<div>\n",
       "<style scoped>\n",
       "    .dataframe tbody tr th:only-of-type {\n",
       "        vertical-align: middle;\n",
       "    }\n",
       "\n",
       "    .dataframe tbody tr th {\n",
       "        vertical-align: top;\n",
       "    }\n",
       "\n",
       "    .dataframe thead th {\n",
       "        text-align: right;\n",
       "    }\n",
       "</style>\n",
       "<table border=\"1\" class=\"dataframe\">\n",
       "  <thead>\n",
       "    <tr style=\"text-align: right;\">\n",
       "      <th></th>\n",
       "      <th>id</th>\n",
       "      <th>synopsis</th>\n",
       "      <th>rating</th>\n",
       "      <th>genre</th>\n",
       "      <th>director</th>\n",
       "      <th>writer</th>\n",
       "      <th>theater_date</th>\n",
       "      <th>dvd_date</th>\n",
       "      <th>currency</th>\n",
       "      <th>box_office</th>\n",
       "      <th>runtime</th>\n",
       "      <th>studio</th>\n",
       "    </tr>\n",
       "  </thead>\n",
       "  <tbody>\n",
       "    <tr>\n",
       "      <th>0</th>\n",
       "      <td>1</td>\n",
       "      <td>This gritty, fast-paced, and innovative police...</td>\n",
       "      <td>R</td>\n",
       "      <td>Action and Adventure|Classics|Drama</td>\n",
       "      <td>William Friedkin</td>\n",
       "      <td>Ernest Tidyman</td>\n",
       "      <td>Oct 9, 1971</td>\n",
       "      <td>Sep 25, 2001</td>\n",
       "      <td>NaN</td>\n",
       "      <td>NaN</td>\n",
       "      <td>104 minutes</td>\n",
       "      <td>NaN</td>\n",
       "    </tr>\n",
       "    <tr>\n",
       "      <th>1</th>\n",
       "      <td>3</td>\n",
       "      <td>New York City, not-too-distant-future: Eric Pa...</td>\n",
       "      <td>R</td>\n",
       "      <td>Drama|Science Fiction and Fantasy</td>\n",
       "      <td>David Cronenberg</td>\n",
       "      <td>David Cronenberg|Don DeLillo</td>\n",
       "      <td>Aug 17, 2012</td>\n",
       "      <td>Jan 1, 2013</td>\n",
       "      <td>$</td>\n",
       "      <td>600,000</td>\n",
       "      <td>108 minutes</td>\n",
       "      <td>Entertainment One</td>\n",
       "    </tr>\n",
       "    <tr>\n",
       "      <th>2</th>\n",
       "      <td>5</td>\n",
       "      <td>Illeana Douglas delivers a superb performance ...</td>\n",
       "      <td>R</td>\n",
       "      <td>Drama|Musical and Performing Arts</td>\n",
       "      <td>Allison Anders</td>\n",
       "      <td>Allison Anders</td>\n",
       "      <td>Sep 13, 1996</td>\n",
       "      <td>Apr 18, 2000</td>\n",
       "      <td>NaN</td>\n",
       "      <td>NaN</td>\n",
       "      <td>116 minutes</td>\n",
       "      <td>NaN</td>\n",
       "    </tr>\n",
       "    <tr>\n",
       "      <th>3</th>\n",
       "      <td>6</td>\n",
       "      <td>Michael Douglas runs afoul of a treacherous su...</td>\n",
       "      <td>R</td>\n",
       "      <td>Drama|Mystery and Suspense</td>\n",
       "      <td>Barry Levinson</td>\n",
       "      <td>Paul Attanasio|Michael Crichton</td>\n",
       "      <td>Dec 9, 1994</td>\n",
       "      <td>Aug 27, 1997</td>\n",
       "      <td>NaN</td>\n",
       "      <td>NaN</td>\n",
       "      <td>128 minutes</td>\n",
       "      <td>NaN</td>\n",
       "    </tr>\n",
       "    <tr>\n",
       "      <th>4</th>\n",
       "      <td>7</td>\n",
       "      <td>NaN</td>\n",
       "      <td>NR</td>\n",
       "      <td>Drama|Romance</td>\n",
       "      <td>Rodney Bennett</td>\n",
       "      <td>Giles Cooper</td>\n",
       "      <td>NaN</td>\n",
       "      <td>NaN</td>\n",
       "      <td>NaN</td>\n",
       "      <td>NaN</td>\n",
       "      <td>200 minutes</td>\n",
       "      <td>NaN</td>\n",
       "    </tr>\n",
       "  </tbody>\n",
       "</table>\n",
       "</div>"
      ],
      "text/plain": [
       "   id                                           synopsis rating  \\\n",
       "0   1  This gritty, fast-paced, and innovative police...      R   \n",
       "1   3  New York City, not-too-distant-future: Eric Pa...      R   \n",
       "2   5  Illeana Douglas delivers a superb performance ...      R   \n",
       "3   6  Michael Douglas runs afoul of a treacherous su...      R   \n",
       "4   7                                                NaN     NR   \n",
       "\n",
       "                                 genre          director  \\\n",
       "0  Action and Adventure|Classics|Drama  William Friedkin   \n",
       "1    Drama|Science Fiction and Fantasy  David Cronenberg   \n",
       "2    Drama|Musical and Performing Arts    Allison Anders   \n",
       "3           Drama|Mystery and Suspense    Barry Levinson   \n",
       "4                        Drama|Romance    Rodney Bennett   \n",
       "\n",
       "                            writer  theater_date      dvd_date currency  \\\n",
       "0                   Ernest Tidyman   Oct 9, 1971  Sep 25, 2001      NaN   \n",
       "1     David Cronenberg|Don DeLillo  Aug 17, 2012   Jan 1, 2013        $   \n",
       "2                   Allison Anders  Sep 13, 1996  Apr 18, 2000      NaN   \n",
       "3  Paul Attanasio|Michael Crichton   Dec 9, 1994  Aug 27, 1997      NaN   \n",
       "4                     Giles Cooper           NaN           NaN      NaN   \n",
       "\n",
       "  box_office      runtime             studio  \n",
       "0        NaN  104 minutes                NaN  \n",
       "1    600,000  108 minutes  Entertainment One  \n",
       "2        NaN  116 minutes                NaN  \n",
       "3        NaN  128 minutes                NaN  \n",
       "4        NaN  200 minutes                NaN  "
      ]
     },
     "execution_count": 10,
     "metadata": {},
     "output_type": "execute_result"
    }
   ],
   "source": [
    "df_movie_info.head()"
   ]
  },
  {
   "cell_type": "markdown",
   "metadata": {},
   "source": [
    "### Reviews"
   ]
  },
  {
   "cell_type": "code",
   "execution_count": 11,
   "metadata": {
    "ExecuteTime": {
     "end_time": "2021-08-20T20:05:31.531959Z",
     "start_time": "2021-08-20T20:05:31.517973Z"
    }
   },
   "outputs": [
    {
     "data": {
      "text/html": [
       "<div>\n",
       "<style scoped>\n",
       "    .dataframe tbody tr th:only-of-type {\n",
       "        vertical-align: middle;\n",
       "    }\n",
       "\n",
       "    .dataframe tbody tr th {\n",
       "        vertical-align: top;\n",
       "    }\n",
       "\n",
       "    .dataframe thead th {\n",
       "        text-align: right;\n",
       "    }\n",
       "</style>\n",
       "<table border=\"1\" class=\"dataframe\">\n",
       "  <thead>\n",
       "    <tr style=\"text-align: right;\">\n",
       "      <th></th>\n",
       "      <th>id</th>\n",
       "      <th>review</th>\n",
       "      <th>rating</th>\n",
       "      <th>fresh</th>\n",
       "      <th>critic</th>\n",
       "      <th>top_critic</th>\n",
       "      <th>publisher</th>\n",
       "      <th>date</th>\n",
       "    </tr>\n",
       "  </thead>\n",
       "  <tbody>\n",
       "    <tr>\n",
       "      <th>0</th>\n",
       "      <td>3</td>\n",
       "      <td>A distinctly gallows take on contemporary fina...</td>\n",
       "      <td>3/5</td>\n",
       "      <td>fresh</td>\n",
       "      <td>PJ Nabarro</td>\n",
       "      <td>0</td>\n",
       "      <td>Patrick Nabarro</td>\n",
       "      <td>November 10, 2018</td>\n",
       "    </tr>\n",
       "    <tr>\n",
       "      <th>1</th>\n",
       "      <td>3</td>\n",
       "      <td>It's an allegory in search of a meaning that n...</td>\n",
       "      <td>NaN</td>\n",
       "      <td>rotten</td>\n",
       "      <td>Annalee Newitz</td>\n",
       "      <td>0</td>\n",
       "      <td>io9.com</td>\n",
       "      <td>May 23, 2018</td>\n",
       "    </tr>\n",
       "    <tr>\n",
       "      <th>2</th>\n",
       "      <td>3</td>\n",
       "      <td>... life lived in a bubble in financial dealin...</td>\n",
       "      <td>NaN</td>\n",
       "      <td>fresh</td>\n",
       "      <td>Sean Axmaker</td>\n",
       "      <td>0</td>\n",
       "      <td>Stream on Demand</td>\n",
       "      <td>January 4, 2018</td>\n",
       "    </tr>\n",
       "    <tr>\n",
       "      <th>3</th>\n",
       "      <td>3</td>\n",
       "      <td>Continuing along a line introduced in last yea...</td>\n",
       "      <td>NaN</td>\n",
       "      <td>fresh</td>\n",
       "      <td>Daniel Kasman</td>\n",
       "      <td>0</td>\n",
       "      <td>MUBI</td>\n",
       "      <td>November 16, 2017</td>\n",
       "    </tr>\n",
       "    <tr>\n",
       "      <th>4</th>\n",
       "      <td>3</td>\n",
       "      <td>... a perverse twist on neorealism...</td>\n",
       "      <td>NaN</td>\n",
       "      <td>fresh</td>\n",
       "      <td>NaN</td>\n",
       "      <td>0</td>\n",
       "      <td>Cinema Scope</td>\n",
       "      <td>October 12, 2017</td>\n",
       "    </tr>\n",
       "  </tbody>\n",
       "</table>\n",
       "</div>"
      ],
      "text/plain": [
       "   id                                             review rating   fresh  \\\n",
       "0   3  A distinctly gallows take on contemporary fina...    3/5   fresh   \n",
       "1   3  It's an allegory in search of a meaning that n...    NaN  rotten   \n",
       "2   3  ... life lived in a bubble in financial dealin...    NaN   fresh   \n",
       "3   3  Continuing along a line introduced in last yea...    NaN   fresh   \n",
       "4   3             ... a perverse twist on neorealism...     NaN   fresh   \n",
       "\n",
       "           critic  top_critic         publisher               date  \n",
       "0      PJ Nabarro           0   Patrick Nabarro  November 10, 2018  \n",
       "1  Annalee Newitz           0           io9.com       May 23, 2018  \n",
       "2    Sean Axmaker           0  Stream on Demand    January 4, 2018  \n",
       "3   Daniel Kasman           0              MUBI  November 16, 2017  \n",
       "4             NaN           0      Cinema Scope   October 12, 2017  "
      ]
     },
     "execution_count": 11,
     "metadata": {},
     "output_type": "execute_result"
    }
   ],
   "source": [
    "df_reviews.head()"
   ]
  },
  {
   "cell_type": "markdown",
   "metadata": {},
   "source": [
    "### Movies"
   ]
  },
  {
   "cell_type": "code",
   "execution_count": 12,
   "metadata": {
    "ExecuteTime": {
     "end_time": "2021-08-20T20:05:31.547572Z",
     "start_time": "2021-08-20T20:05:31.532933Z"
    },
    "scrolled": true
   },
   "outputs": [
    {
     "data": {
      "text/html": [
       "<div>\n",
       "<style scoped>\n",
       "    .dataframe tbody tr th:only-of-type {\n",
       "        vertical-align: middle;\n",
       "    }\n",
       "\n",
       "    .dataframe tbody tr th {\n",
       "        vertical-align: top;\n",
       "    }\n",
       "\n",
       "    .dataframe thead th {\n",
       "        text-align: right;\n",
       "    }\n",
       "</style>\n",
       "<table border=\"1\" class=\"dataframe\">\n",
       "  <thead>\n",
       "    <tr style=\"text-align: right;\">\n",
       "      <th></th>\n",
       "      <th>Unnamed: 0</th>\n",
       "      <th>genre_ids</th>\n",
       "      <th>id</th>\n",
       "      <th>original_language</th>\n",
       "      <th>original_title</th>\n",
       "      <th>popularity</th>\n",
       "      <th>release_date</th>\n",
       "      <th>title</th>\n",
       "      <th>vote_average</th>\n",
       "      <th>vote_count</th>\n",
       "    </tr>\n",
       "  </thead>\n",
       "  <tbody>\n",
       "    <tr>\n",
       "      <th>0</th>\n",
       "      <td>0</td>\n",
       "      <td>[12, 14, 10751]</td>\n",
       "      <td>12444</td>\n",
       "      <td>en</td>\n",
       "      <td>Harry Potter and the Deathly Hallows: Part 1</td>\n",
       "      <td>33.533</td>\n",
       "      <td>2010-11-19</td>\n",
       "      <td>Harry Potter and the Deathly Hallows: Part 1</td>\n",
       "      <td>7.7</td>\n",
       "      <td>10788</td>\n",
       "    </tr>\n",
       "    <tr>\n",
       "      <th>1</th>\n",
       "      <td>1</td>\n",
       "      <td>[14, 12, 16, 10751]</td>\n",
       "      <td>10191</td>\n",
       "      <td>en</td>\n",
       "      <td>How to Train Your Dragon</td>\n",
       "      <td>28.734</td>\n",
       "      <td>2010-03-26</td>\n",
       "      <td>How to Train Your Dragon</td>\n",
       "      <td>7.7</td>\n",
       "      <td>7610</td>\n",
       "    </tr>\n",
       "    <tr>\n",
       "      <th>2</th>\n",
       "      <td>2</td>\n",
       "      <td>[12, 28, 878]</td>\n",
       "      <td>10138</td>\n",
       "      <td>en</td>\n",
       "      <td>Iron Man 2</td>\n",
       "      <td>28.515</td>\n",
       "      <td>2010-05-07</td>\n",
       "      <td>Iron Man 2</td>\n",
       "      <td>6.8</td>\n",
       "      <td>12368</td>\n",
       "    </tr>\n",
       "    <tr>\n",
       "      <th>3</th>\n",
       "      <td>3</td>\n",
       "      <td>[16, 35, 10751]</td>\n",
       "      <td>862</td>\n",
       "      <td>en</td>\n",
       "      <td>Toy Story</td>\n",
       "      <td>28.005</td>\n",
       "      <td>1995-11-22</td>\n",
       "      <td>Toy Story</td>\n",
       "      <td>7.9</td>\n",
       "      <td>10174</td>\n",
       "    </tr>\n",
       "    <tr>\n",
       "      <th>4</th>\n",
       "      <td>4</td>\n",
       "      <td>[28, 878, 12]</td>\n",
       "      <td>27205</td>\n",
       "      <td>en</td>\n",
       "      <td>Inception</td>\n",
       "      <td>27.920</td>\n",
       "      <td>2010-07-16</td>\n",
       "      <td>Inception</td>\n",
       "      <td>8.3</td>\n",
       "      <td>22186</td>\n",
       "    </tr>\n",
       "  </tbody>\n",
       "</table>\n",
       "</div>"
      ],
      "text/plain": [
       "   Unnamed: 0            genre_ids     id original_language  \\\n",
       "0           0      [12, 14, 10751]  12444                en   \n",
       "1           1  [14, 12, 16, 10751]  10191                en   \n",
       "2           2        [12, 28, 878]  10138                en   \n",
       "3           3      [16, 35, 10751]    862                en   \n",
       "4           4        [28, 878, 12]  27205                en   \n",
       "\n",
       "                                 original_title  popularity release_date  \\\n",
       "0  Harry Potter and the Deathly Hallows: Part 1      33.533   2010-11-19   \n",
       "1                      How to Train Your Dragon      28.734   2010-03-26   \n",
       "2                                    Iron Man 2      28.515   2010-05-07   \n",
       "3                                     Toy Story      28.005   1995-11-22   \n",
       "4                                     Inception      27.920   2010-07-16   \n",
       "\n",
       "                                          title  vote_average  vote_count  \n",
       "0  Harry Potter and the Deathly Hallows: Part 1           7.7       10788  \n",
       "1                      How to Train Your Dragon           7.7        7610  \n",
       "2                                    Iron Man 2           6.8       12368  \n",
       "3                                     Toy Story           7.9       10174  \n",
       "4                                     Inception           8.3       22186  "
      ]
     },
     "execution_count": 12,
     "metadata": {},
     "output_type": "execute_result"
    }
   ],
   "source": [
    "df_movies.head()"
   ]
  },
  {
   "cell_type": "markdown",
   "metadata": {},
   "source": [
    "### Budgets"
   ]
  },
  {
   "cell_type": "code",
   "execution_count": 13,
   "metadata": {
    "ExecuteTime": {
     "end_time": "2021-08-20T20:05:31.563509Z",
     "start_time": "2021-08-20T20:05:31.548548Z"
    },
    "scrolled": true
   },
   "outputs": [
    {
     "data": {
      "text/html": [
       "<div>\n",
       "<style scoped>\n",
       "    .dataframe tbody tr th:only-of-type {\n",
       "        vertical-align: middle;\n",
       "    }\n",
       "\n",
       "    .dataframe tbody tr th {\n",
       "        vertical-align: top;\n",
       "    }\n",
       "\n",
       "    .dataframe thead th {\n",
       "        text-align: right;\n",
       "    }\n",
       "</style>\n",
       "<table border=\"1\" class=\"dataframe\">\n",
       "  <thead>\n",
       "    <tr style=\"text-align: right;\">\n",
       "      <th></th>\n",
       "      <th>id</th>\n",
       "      <th>release_date</th>\n",
       "      <th>movie</th>\n",
       "      <th>production_budget</th>\n",
       "      <th>domestic_gross</th>\n",
       "      <th>worldwide_gross</th>\n",
       "    </tr>\n",
       "  </thead>\n",
       "  <tbody>\n",
       "    <tr>\n",
       "      <th>0</th>\n",
       "      <td>1</td>\n",
       "      <td>Dec 18, 2009</td>\n",
       "      <td>Avatar</td>\n",
       "      <td>$425,000,000</td>\n",
       "      <td>$760,507,625</td>\n",
       "      <td>$2,776,345,279</td>\n",
       "    </tr>\n",
       "    <tr>\n",
       "      <th>1</th>\n",
       "      <td>2</td>\n",
       "      <td>May 20, 2011</td>\n",
       "      <td>Pirates of the Caribbean: On Stranger Tides</td>\n",
       "      <td>$410,600,000</td>\n",
       "      <td>$241,063,875</td>\n",
       "      <td>$1,045,663,875</td>\n",
       "    </tr>\n",
       "    <tr>\n",
       "      <th>2</th>\n",
       "      <td>3</td>\n",
       "      <td>Jun 7, 2019</td>\n",
       "      <td>Dark Phoenix</td>\n",
       "      <td>$350,000,000</td>\n",
       "      <td>$42,762,350</td>\n",
       "      <td>$149,762,350</td>\n",
       "    </tr>\n",
       "    <tr>\n",
       "      <th>3</th>\n",
       "      <td>4</td>\n",
       "      <td>May 1, 2015</td>\n",
       "      <td>Avengers: Age of Ultron</td>\n",
       "      <td>$330,600,000</td>\n",
       "      <td>$459,005,868</td>\n",
       "      <td>$1,403,013,963</td>\n",
       "    </tr>\n",
       "    <tr>\n",
       "      <th>4</th>\n",
       "      <td>5</td>\n",
       "      <td>Dec 15, 2017</td>\n",
       "      <td>Star Wars Ep. VIII: The Last Jedi</td>\n",
       "      <td>$317,000,000</td>\n",
       "      <td>$620,181,382</td>\n",
       "      <td>$1,316,721,747</td>\n",
       "    </tr>\n",
       "  </tbody>\n",
       "</table>\n",
       "</div>"
      ],
      "text/plain": [
       "   id  release_date                                        movie  \\\n",
       "0   1  Dec 18, 2009                                       Avatar   \n",
       "1   2  May 20, 2011  Pirates of the Caribbean: On Stranger Tides   \n",
       "2   3   Jun 7, 2019                                 Dark Phoenix   \n",
       "3   4   May 1, 2015                      Avengers: Age of Ultron   \n",
       "4   5  Dec 15, 2017            Star Wars Ep. VIII: The Last Jedi   \n",
       "\n",
       "  production_budget domestic_gross worldwide_gross  \n",
       "0      $425,000,000   $760,507,625  $2,776,345,279  \n",
       "1      $410,600,000   $241,063,875  $1,045,663,875  \n",
       "2      $350,000,000    $42,762,350    $149,762,350  \n",
       "3      $330,600,000   $459,005,868  $1,403,013,963  \n",
       "4      $317,000,000   $620,181,382  $1,316,721,747  "
      ]
     },
     "execution_count": 13,
     "metadata": {},
     "output_type": "execute_result"
    }
   ],
   "source": [
    "df_budgets.head()"
   ]
  },
  {
   "cell_type": "code",
   "execution_count": 14,
   "metadata": {
    "ExecuteTime": {
     "end_time": "2021-08-20T20:05:31.578495Z",
     "start_time": "2021-08-20T20:05:31.564506Z"
    }
   },
   "outputs": [],
   "source": [
    "## tight_layout()"
   ]
  },
  {
   "cell_type": "markdown",
   "metadata": {},
   "source": [
    "## Getting Inside of Business Problem\n",
    "1. Which studios has the most revenue movies? \n",
    "2. What type of movies most made?\n",
    "3. Is there a good relation with movie budget and revenue?\n",
    "4. Which directors made most revenue and why?\n"
   ]
  },
  {
   "cell_type": "markdown",
   "metadata": {},
   "source": [
    "### Studios"
   ]
  },
  {
   "cell_type": "code",
   "execution_count": 15,
   "metadata": {
    "ExecuteTime": {
     "end_time": "2021-08-20T20:05:31.594424Z",
     "start_time": "2021-08-20T20:05:31.579466Z"
    },
    "scrolled": true
   },
   "outputs": [
    {
     "data": {
      "text/html": [
       "<div>\n",
       "<style scoped>\n",
       "    .dataframe tbody tr th:only-of-type {\n",
       "        vertical-align: middle;\n",
       "    }\n",
       "\n",
       "    .dataframe tbody tr th {\n",
       "        vertical-align: top;\n",
       "    }\n",
       "\n",
       "    .dataframe thead th {\n",
       "        text-align: right;\n",
       "    }\n",
       "</style>\n",
       "<table border=\"1\" class=\"dataframe\">\n",
       "  <thead>\n",
       "    <tr style=\"text-align: right;\">\n",
       "      <th></th>\n",
       "      <th>title</th>\n",
       "      <th>studio</th>\n",
       "      <th>domestic_gross</th>\n",
       "      <th>foreign_gross</th>\n",
       "      <th>year</th>\n",
       "    </tr>\n",
       "  </thead>\n",
       "  <tbody>\n",
       "    <tr>\n",
       "      <th>0</th>\n",
       "      <td>Toy Story 3</td>\n",
       "      <td>BV</td>\n",
       "      <td>415000000.0</td>\n",
       "      <td>652000000</td>\n",
       "      <td>2010</td>\n",
       "    </tr>\n",
       "    <tr>\n",
       "      <th>1</th>\n",
       "      <td>Alice in Wonderland (2010)</td>\n",
       "      <td>BV</td>\n",
       "      <td>334200000.0</td>\n",
       "      <td>691300000</td>\n",
       "      <td>2010</td>\n",
       "    </tr>\n",
       "    <tr>\n",
       "      <th>2</th>\n",
       "      <td>Harry Potter and the Deathly Hallows Part 1</td>\n",
       "      <td>WB</td>\n",
       "      <td>296000000.0</td>\n",
       "      <td>664300000</td>\n",
       "      <td>2010</td>\n",
       "    </tr>\n",
       "    <tr>\n",
       "      <th>3</th>\n",
       "      <td>Inception</td>\n",
       "      <td>WB</td>\n",
       "      <td>292600000.0</td>\n",
       "      <td>535700000</td>\n",
       "      <td>2010</td>\n",
       "    </tr>\n",
       "    <tr>\n",
       "      <th>4</th>\n",
       "      <td>Shrek Forever After</td>\n",
       "      <td>P/DW</td>\n",
       "      <td>238700000.0</td>\n",
       "      <td>513900000</td>\n",
       "      <td>2010</td>\n",
       "    </tr>\n",
       "  </tbody>\n",
       "</table>\n",
       "</div>"
      ],
      "text/plain": [
       "                                         title studio  domestic_gross  \\\n",
       "0                                  Toy Story 3     BV     415000000.0   \n",
       "1                   Alice in Wonderland (2010)     BV     334200000.0   \n",
       "2  Harry Potter and the Deathly Hallows Part 1     WB     296000000.0   \n",
       "3                                    Inception     WB     292600000.0   \n",
       "4                          Shrek Forever After   P/DW     238700000.0   \n",
       "\n",
       "  foreign_gross  year  \n",
       "0     652000000  2010  \n",
       "1     691300000  2010  \n",
       "2     664300000  2010  \n",
       "3     535700000  2010  \n",
       "4     513900000  2010  "
      ]
     },
     "execution_count": 15,
     "metadata": {},
     "output_type": "execute_result"
    }
   ],
   "source": [
    "#Remembering first dataframe for what is  data look like\n",
    "df_movie_gross.head()"
   ]
  },
  {
   "cell_type": "code",
   "execution_count": 16,
   "metadata": {
    "ExecuteTime": {
     "end_time": "2021-08-20T20:05:31.609385Z",
     "start_time": "2021-08-20T20:05:31.595422Z"
    }
   },
   "outputs": [
    {
     "data": {
      "text/plain": [
       "title                0\n",
       "studio               5\n",
       "domestic_gross      28\n",
       "foreign_gross     1350\n",
       "year                 0\n",
       "dtype: int64"
      ]
     },
     "execution_count": 16,
     "metadata": {},
     "output_type": "execute_result"
    }
   ],
   "source": [
    "#Looking for missing data if there is any.\n",
    "df_movie_gross.isna().sum()"
   ]
  },
  {
   "cell_type": "code",
   "execution_count": 17,
   "metadata": {
    "ExecuteTime": {
     "end_time": "2021-08-20T20:05:31.625342Z",
     "start_time": "2021-08-20T20:05:31.612379Z"
    }
   },
   "outputs": [],
   "source": [
    "# Cleaning proccess of 'foreign_gross' column.\n",
    "df_movie_gross['foreign_gross'] = df_movie_gross['foreign_gross'].str.replace(',','').astype(float)"
   ]
  },
  {
   "cell_type": "code",
   "execution_count": 18,
   "metadata": {
    "ExecuteTime": {
     "end_time": "2021-08-20T20:05:31.640303Z",
     "start_time": "2021-08-20T20:05:31.627339Z"
    }
   },
   "outputs": [],
   "source": [
    "# Creating new column for total gross and sorting.\n",
    "df_movie_gross['total_gross'] = df_movie_gross['domestic_gross']+ df_movie_gross['foreign_gross']"
   ]
  },
  {
   "cell_type": "code",
   "execution_count": 19,
   "metadata": {
    "ExecuteTime": {
     "end_time": "2021-08-20T20:05:31.655263Z",
     "start_time": "2021-08-20T20:05:31.641301Z"
    }
   },
   "outputs": [],
   "source": [
    "#Grouping and sorting dataframe by studio to look studios individually.\n",
    "grouped_studio = df_movie_gross.groupby('studio').sum().reset_index()\n",
    "grouped_studio.sort_values(by='total_gross',ascending=False,inplace=True)"
   ]
  },
  {
   "cell_type": "code",
   "execution_count": 20,
   "metadata": {
    "ExecuteTime": {
     "end_time": "2021-08-20T20:05:31.670222Z",
     "start_time": "2021-08-20T20:05:31.656259Z"
    }
   },
   "outputs": [],
   "source": [
    "#Creating variable for top 20 studios with most revenue.\n",
    "most_gross_20_studio = grouped_studio[:20]"
   ]
  },
  {
   "cell_type": "code",
   "execution_count": 21,
   "metadata": {
    "ExecuteTime": {
     "end_time": "2021-08-20T20:05:31.904139Z",
     "start_time": "2021-08-20T20:05:31.672218Z"
    }
   },
   "outputs": [
    {
     "data": {
      "image/png": "[encoded data removed]",
      "text/plain": [
       "<Figure size 864x576 with 1 Axes>"
      ]
     },
     "metadata": {
      "needs_background": "light"
     },
     "output_type": "display_data"
    }
   ],
   "source": [
    "#Creating for loop to highlight first three value of graph.\n",
    "colors=[]\n",
    "for studio in most_gross_20_studio['studio']:\n",
    "    if ((studio=='BV') or (studio=='WB') or (studio=='Uni.')or (studio=='Fox')):\n",
    "        colors.append('tab:orange')\n",
    "    else:\n",
    "        colors.append('slategray')\n",
    "\n",
    "fig , ax = plt.subplots(figsize=(12,8))\n",
    "ax.bar(most_gross_20_studio['studio'],most_gross_20_studio['total_gross'],color = colors)\n",
    "ax.set_title('Top 20 Studio with the most Revenue',fontsize=20)\n",
    "ax.tick_params(axis='x', labelsize=16,rotation=45)\n",
    "ax.tick_params(axis='y', labelsize=16)\n",
    "plt.xlabel('Studios',fontsize=20)\n",
    "plt.ylabel('Incomes',fontsize=20)\n",
    "plt.style.use('ggplot')\n"
   ]
  },
  {
   "cell_type": "code",
   "execution_count": 22,
   "metadata": {
    "ExecuteTime": {
     "end_time": "2021-08-20T20:05:32.137526Z",
     "start_time": "2021-08-20T20:05:31.906139Z"
    }
   },
   "outputs": [
    {
     "data": {
      "text/plain": [
       "Text(0, 0.5, 'Popularity')"
      ]
     },
     "execution_count": 22,
     "metadata": {},
     "output_type": "execute_result"
    },
    {
     "data": {
      "image/png": "[encoded data removed]",
      "text/plain": [
       "<Figure size 1152x576 with 1 Axes>"
      ]
     },
     "metadata": {},
     "output_type": "display_data"
    }
   ],
   "source": [
    "#Merging to dataframe to look studio and popularity and sorting by popularity.\n",
    "df_popularity = df_movie_gross.merge(df_movies)\n",
    "popularity_grouped = df_popularity.groupby('studio').sum().reset_index()\n",
    "popularity_sorted = popularity_grouped.sort_values(by='popularity',ascending=False)\n",
    "#Creating colors to hightlight first three popular ones.\n",
    "colors=[]\n",
    "for studio in popularity_sorted[:20]['studio']:\n",
    "    if ((studio == 'Uni.') or (studio == 'Fox') or (studio == 'BV')or (studio == 'WB')):\n",
    "        colors.append('tab:orange')\n",
    "    else:\n",
    "        colors.append('slategray')\n",
    "        \n",
    "fig , ax = plt.subplots(figsize=(16,8))\n",
    "ax.bar(popularity_sorted[:20]['studio'],popularity_sorted[:20]['popularity'],color=colors)\n",
    "ax.set_title('Studios Popularity', fontsize=20)\n",
    "ax.set_xlabel('Studios', fontsize=20)\n",
    "ax.set_ylabel('Popularity', fontsize=20)"
   ]
  },
  {
   "cell_type": "markdown",
   "metadata": {},
   "source": [
    "### Movie types"
   ]
  },
  {
   "cell_type": "code",
   "execution_count": 23,
   "metadata": {
    "ExecuteTime": {
     "end_time": "2021-08-20T20:05:32.199406Z",
     "start_time": "2021-08-20T20:05:32.140518Z"
    },
    "scrolled": false
   },
   "outputs": [],
   "source": [
    "# Need to some changing on column name. So both dataframes could have same column name to merge on(`title`column).\n",
    "df_titles.rename(columns={'primary_title':'title'},inplace=True)\n",
    "df_gross_and_titles = df_movie_gross.merge(df_titles)"
   ]
  },
  {
   "cell_type": "code",
   "execution_count": 24,
   "metadata": {
    "ExecuteTime": {
     "end_time": "2021-08-20T20:05:32.481663Z",
     "start_time": "2021-08-20T20:05:32.200370Z"
    },
    "scrolled": false
   },
   "outputs": [
    {
     "data": {
      "image/png": "[encoded data removed]",
      "text/plain": [
       "<Figure size 1440x576 with 1 Axes>"
      ]
     },
     "metadata": {},
     "output_type": "display_data"
    }
   ],
   "source": [
    "#Cleaning and sorting process of genres column.\n",
    "clean_genres = df_gross_and_titles['genres'].str.get_dummies(',').sum()\n",
    "sorted_genres = clean_genres.sort_values(ascending=False)\n",
    "\n",
    "colors=[]\n",
    "[colors.append('mediumseagreen')  if((i =='Drama')or(i=='Action')or(i=='Comedy'))\n",
    " else colors.append('silver')for i in sorted_genres.index]\n",
    "\n",
    "fig , ax = plt.subplots(figsize=(20,8))\n",
    "ax.bar(sorted_genres.index,sorted_genres,color=colors)\n",
    "ax.set_title('Most made movie types',fontsize=20)\n",
    "ax.set_xlabel('Movie Types',fontsize=16)\n",
    "ax.set_ylabel('Movie Count',fontsize=16)\n",
    "plt.tick_params(labelsize = 15)\n",
    "plt.xticks(rotation=45)\n",
    "plt.show()"
   ]
  },
  {
   "cell_type": "code",
   "execution_count": 25,
   "metadata": {
    "ExecuteTime": {
     "end_time": "2021-08-20T20:05:33.278718Z",
     "start_time": "2021-08-20T20:05:32.482620Z"
    }
   },
   "outputs": [
    {
     "data": {
      "image/png": "[encoded data removed]",
      "text/plain": [
       "<Figure size 864x576 with 3 Axes>"
      ]
     },
     "metadata": {},
     "output_type": "display_data"
    }
   ],
   "source": [
    "# Need to seperate multiple value of genres column as down below line and sort them to visualize.\n",
    "grouped_genres = df_gross_and_titles['genres'].str.get_dummies(sep=',').groupby(df_gross_and_titles['studio']).sum()\n",
    "sorted_values_BV = grouped_genres.T['BV'].sort_values()\n",
    "sorted_values_WB = grouped_genres.T['WB'].sort_values()\n",
    "sorted_values_Fox = grouped_genres.T['Fox'].sort_values()\n",
    "\n",
    "#Creating colors to hightlight most made movie types.\n",
    "colors=[]\n",
    "[colors.append('lightgray')  if i<=29 else colors.append('cornflowerblue')for i in sorted_values_WB]\n",
    "        \n",
    "fig , axs = plt.subplots(3,figsize=(12,8))\n",
    "axs[0].barh(sorted_values_BV.index,sorted_values_BV,color=colors)\n",
    "axs[0].set_title('BV Studios movie types',fontsize=16)\n",
    "axs[0].set_xlabel('Movie Counts',fontsize=16)\n",
    "axs[0].set_ylabel('Movie Types',fontsize=16)\n",
    "axs[1].barh(sorted_values_WB.index,sorted_values_WB,color=colors)\n",
    "axs[1].set_title('WB Studios movie types',fontsize=16)\n",
    "axs[1].set_xlabel('Movie Counts',fontsize=16)\n",
    "axs[1].set_ylabel('Movie Types',fontsize=16)\n",
    "axs[2].barh(sorted_values_Fox.index,sorted_values_Fox,color=colors)\n",
    "axs[2].set_title('Fox Studios movie types',fontsize=16)\n",
    "axs[2].set_xlabel('Movie Counts',fontsize=16)\n",
    "axs[2].set_ylabel('Movie Types',fontsize=16)\n",
    "fig.subplots_adjust(top=2)"
   ]
  },
  {
   "cell_type": "markdown",
   "metadata": {},
   "source": [
    "###  Budget Relations"
   ]
  },
  {
   "cell_type": "code",
   "execution_count": 26,
   "metadata": {
    "ExecuteTime": {
     "end_time": "2021-08-20T20:05:33.294222Z",
     "start_time": "2021-08-20T20:05:33.279717Z"
    }
   },
   "outputs": [],
   "source": [
    "#Cleaning process of production_budget column.\n",
    "df_budgets['production_budget'] = df_budgets['production_budget'].str.replace(',','')\n",
    "df_budgets['production_budget'] = df_budgets['production_budget'].str.replace('$','').astype(float)"
   ]
  },
  {
   "cell_type": "code",
   "execution_count": 27,
   "metadata": {
    "ExecuteTime": {
     "end_time": "2021-08-20T20:05:33.310192Z",
     "start_time": "2021-08-20T20:05:33.295220Z"
    }
   },
   "outputs": [],
   "source": [
    "#Cleaning process of worldwide_gross column.\n",
    "df_budgets['worldwide_gross'] = df_budgets['worldwide_gross'].str.replace(',','')\n",
    "df_budgets['worldwide_gross'] = df_budgets['worldwide_gross'].str.replace('$','').astype(float)"
   ]
  },
  {
   "cell_type": "code",
   "execution_count": 28,
   "metadata": {
    "ExecuteTime": {
     "end_time": "2021-08-20T20:05:33.325176Z",
     "start_time": "2021-08-20T20:05:33.311177Z"
    }
   },
   "outputs": [],
   "source": [
    "#Sorted dataframe by descending worldwide_gross column.\n",
    "df_budgets.sort_values(by='worldwide_gross',ascending=False,inplace=True)"
   ]
  },
  {
   "cell_type": "code",
   "execution_count": 29,
   "metadata": {
    "ExecuteTime": {
     "end_time": "2021-08-20T20:05:33.341098Z",
     "start_time": "2021-08-20T20:05:33.326137Z"
    }
   },
   "outputs": [],
   "source": [
    "#Creating function to create 3 category.\n",
    "def split_budget(budget):\n",
    "    if budget < 1e8:\n",
    "        return 'Under 100 million.'\n",
    "    if budget < 2e8:\n",
    "        return 'Under 200 million.'\n",
    "    return 'Over 200 million.'\n",
    "    "
   ]
  },
  {
   "cell_type": "code",
   "execution_count": 30,
   "metadata": {
    "ExecuteTime": {
     "end_time": "2021-08-20T20:05:33.357056Z",
     "start_time": "2021-08-20T20:05:33.342097Z"
    }
   },
   "outputs": [],
   "source": [
    "#Using function into the dataframe to create new column and categorize values.\n",
    "df_budgets['split_budget'] = df_budgets['production_budget'].apply(split_budget)"
   ]
  },
  {
   "cell_type": "code",
   "execution_count": 31,
   "metadata": {
    "ExecuteTime": {
     "end_time": "2021-08-20T20:05:33.373012Z",
     "start_time": "2021-08-20T20:05:33.358053Z"
    }
   },
   "outputs": [
    {
     "data": {
      "text/html": [
       "<div>\n",
       "<style scoped>\n",
       "    .dataframe tbody tr th:only-of-type {\n",
       "        vertical-align: middle;\n",
       "    }\n",
       "\n",
       "    .dataframe tbody tr th {\n",
       "        vertical-align: top;\n",
       "    }\n",
       "\n",
       "    .dataframe thead th {\n",
       "        text-align: right;\n",
       "    }\n",
       "</style>\n",
       "<table border=\"1\" class=\"dataframe\">\n",
       "  <thead>\n",
       "    <tr style=\"text-align: right;\">\n",
       "      <th></th>\n",
       "      <th>id</th>\n",
       "      <th>release_date</th>\n",
       "      <th>movie</th>\n",
       "      <th>production_budget</th>\n",
       "      <th>domestic_gross</th>\n",
       "      <th>worldwide_gross</th>\n",
       "      <th>split_budget</th>\n",
       "    </tr>\n",
       "  </thead>\n",
       "  <tbody>\n",
       "    <tr>\n",
       "      <th>0</th>\n",
       "      <td>1</td>\n",
       "      <td>Dec 18, 2009</td>\n",
       "      <td>Avatar</td>\n",
       "      <td>425000000.0</td>\n",
       "      <td>$760,507,625</td>\n",
       "      <td>2.776345e+09</td>\n",
       "      <td>Over 200 million.</td>\n",
       "    </tr>\n",
       "    <tr>\n",
       "      <th>42</th>\n",
       "      <td>43</td>\n",
       "      <td>Dec 19, 1997</td>\n",
       "      <td>Titanic</td>\n",
       "      <td>200000000.0</td>\n",
       "      <td>$659,363,944</td>\n",
       "      <td>2.208208e+09</td>\n",
       "      <td>Over 200 million.</td>\n",
       "    </tr>\n",
       "    <tr>\n",
       "      <th>5</th>\n",
       "      <td>6</td>\n",
       "      <td>Dec 18, 2015</td>\n",
       "      <td>Star Wars Ep. VII: The Force Awakens</td>\n",
       "      <td>306000000.0</td>\n",
       "      <td>$936,662,225</td>\n",
       "      <td>2.053311e+09</td>\n",
       "      <td>Over 200 million.</td>\n",
       "    </tr>\n",
       "    <tr>\n",
       "      <th>6</th>\n",
       "      <td>7</td>\n",
       "      <td>Apr 27, 2018</td>\n",
       "      <td>Avengers: Infinity War</td>\n",
       "      <td>300000000.0</td>\n",
       "      <td>$678,815,482</td>\n",
       "      <td>2.048134e+09</td>\n",
       "      <td>Over 200 million.</td>\n",
       "    </tr>\n",
       "    <tr>\n",
       "      <th>33</th>\n",
       "      <td>34</td>\n",
       "      <td>Jun 12, 2015</td>\n",
       "      <td>Jurassic World</td>\n",
       "      <td>215000000.0</td>\n",
       "      <td>$652,270,625</td>\n",
       "      <td>1.648855e+09</td>\n",
       "      <td>Over 200 million.</td>\n",
       "    </tr>\n",
       "    <tr>\n",
       "      <th>...</th>\n",
       "      <td>...</td>\n",
       "      <td>...</td>\n",
       "      <td>...</td>\n",
       "      <td>...</td>\n",
       "      <td>...</td>\n",
       "      <td>...</td>\n",
       "      <td>...</td>\n",
       "    </tr>\n",
       "    <tr>\n",
       "      <th>5474</th>\n",
       "      <td>75</td>\n",
       "      <td>Dec 31, 2005</td>\n",
       "      <td>Insomnia Manica</td>\n",
       "      <td>500000.0</td>\n",
       "      <td>$0</td>\n",
       "      <td>0.000000e+00</td>\n",
       "      <td>Under 100 million.</td>\n",
       "    </tr>\n",
       "    <tr>\n",
       "      <th>5473</th>\n",
       "      <td>74</td>\n",
       "      <td>Jul 17, 2012</td>\n",
       "      <td>Girls Gone Dead</td>\n",
       "      <td>500000.0</td>\n",
       "      <td>$0</td>\n",
       "      <td>0.000000e+00</td>\n",
       "      <td>Under 100 million.</td>\n",
       "    </tr>\n",
       "    <tr>\n",
       "      <th>5472</th>\n",
       "      <td>73</td>\n",
       "      <td>Apr 3, 2012</td>\n",
       "      <td>Enter Nowhere</td>\n",
       "      <td>500000.0</td>\n",
       "      <td>$0</td>\n",
       "      <td>0.000000e+00</td>\n",
       "      <td>Under 100 million.</td>\n",
       "    </tr>\n",
       "    <tr>\n",
       "      <th>5471</th>\n",
       "      <td>72</td>\n",
       "      <td>Dec 31, 2010</td>\n",
       "      <td>Drones</td>\n",
       "      <td>500000.0</td>\n",
       "      <td>$0</td>\n",
       "      <td>0.000000e+00</td>\n",
       "      <td>Under 100 million.</td>\n",
       "    </tr>\n",
       "    <tr>\n",
       "      <th>4068</th>\n",
       "      <td>69</td>\n",
       "      <td>Dec 12, 2008</td>\n",
       "      <td>The Kings of Appletown</td>\n",
       "      <td>7000000.0</td>\n",
       "      <td>$0</td>\n",
       "      <td>0.000000e+00</td>\n",
       "      <td>Under 100 million.</td>\n",
       "    </tr>\n",
       "  </tbody>\n",
       "</table>\n",
       "<p>5782 rows × 7 columns</p>\n",
       "</div>"
      ],
      "text/plain": [
       "      id  release_date                                 movie  \\\n",
       "0      1  Dec 18, 2009                                Avatar   \n",
       "42    43  Dec 19, 1997                               Titanic   \n",
       "5      6  Dec 18, 2015  Star Wars Ep. VII: The Force Awakens   \n",
       "6      7  Apr 27, 2018                Avengers: Infinity War   \n",
       "33    34  Jun 12, 2015                        Jurassic World   \n",
       "...   ..           ...                                   ...   \n",
       "5474  75  Dec 31, 2005                       Insomnia Manica   \n",
       "5473  74  Jul 17, 2012                       Girls Gone Dead   \n",
       "5472  73   Apr 3, 2012                         Enter Nowhere   \n",
       "5471  72  Dec 31, 2010                                Drones   \n",
       "4068  69  Dec 12, 2008                The Kings of Appletown   \n",
       "\n",
       "      production_budget domestic_gross  worldwide_gross        split_budget  \n",
       "0           425000000.0   $760,507,625     2.776345e+09   Over 200 million.  \n",
       "42          200000000.0   $659,363,944     2.208208e+09   Over 200 million.  \n",
       "5           306000000.0   $936,662,225     2.053311e+09   Over 200 million.  \n",
       "6           300000000.0   $678,815,482     2.048134e+09   Over 200 million.  \n",
       "33          215000000.0   $652,270,625     1.648855e+09   Over 200 million.  \n",
       "...                 ...            ...              ...                 ...  \n",
       "5474           500000.0             $0     0.000000e+00  Under 100 million.  \n",
       "5473           500000.0             $0     0.000000e+00  Under 100 million.  \n",
       "5472           500000.0             $0     0.000000e+00  Under 100 million.  \n",
       "5471           500000.0             $0     0.000000e+00  Under 100 million.  \n",
       "4068          7000000.0             $0     0.000000e+00  Under 100 million.  \n",
       "\n",
       "[5782 rows x 7 columns]"
      ]
     },
     "execution_count": 31,
     "metadata": {},
     "output_type": "execute_result"
    }
   ],
   "source": [
    "#Looking again data.\n",
    "df_budgets"
   ]
  },
  {
   "cell_type": "code",
   "execution_count": 32,
   "metadata": {
    "ExecuteTime": {
     "end_time": "2021-08-20T20:05:33.527762Z",
     "start_time": "2021-08-20T20:05:33.374012Z"
    },
    "scrolled": false
   },
   "outputs": [
    {
     "data": {
      "image/png": "[encoded data removed]",
      "text/plain": [
       "<Figure size 864x576 with 1 Axes>"
      ]
     },
     "metadata": {},
     "output_type": "display_data"
    }
   ],
   "source": [
    "#Creating scatterplot to see relationship between budget and gross.\n",
    "\n",
    "fig , ax = plt.subplots(figsize=(12,8))\n",
    "ax.scatter(df_budgets['production_budget'],df_budgets['worldwide_gross'] ,c='seagreen',alpha=0.4)\n",
    "ax.set_title('Relation between Revenue and Budget',fontsize=16)\n",
    "ax.set_xlabel('Budget',fontsize=16)\n",
    "ax.set_ylabel('Revenue',fontsize=16)\n",
    "plt.show()"
   ]
  },
  {
   "cell_type": "code",
   "execution_count": 33,
   "metadata": {
    "ExecuteTime": {
     "end_time": "2021-08-20T20:05:33.699487Z",
     "start_time": "2021-08-20T20:05:33.529724Z"
    }
   },
   "outputs": [
    {
     "data": {
      "image/png": "[encoded data removed]",
      "text/plain": [
       "<Figure size 720x576 with 1 Axes>"
      ]
     },
     "metadata": {},
     "output_type": "display_data"
    }
   ],
   "source": [
    "#Creating boxplot for 3 different budget category.\n",
    "\n",
    "fig, ax = plt.subplots(figsize = (10,8))\n",
    "ax = sns.boxplot(x='split_budget',y='worldwide_gross',data=df_budgets)\n",
    "ax.set_xlabel('Categories of Budgets', fontsize = 15)\n",
    "ax.set_ylabel ('Gross', fontsize = 15)\n",
    "ax.set_title('3 Category of Movie Gross/Budget Relation', fontsize = 18)\n",
    "plt.show()"
   ]
  },
  {
   "cell_type": "markdown",
   "metadata": {},
   "source": [
    "### Directors"
   ]
  },
  {
   "cell_type": "code",
   "execution_count": 34,
   "metadata": {
    "ExecuteTime": {
     "end_time": "2021-08-20T20:05:34.850312Z",
     "start_time": "2021-08-20T20:05:33.700453Z"
    }
   },
   "outputs": [
    {
     "data": {
      "text/html": [
       "<div>\n",
       "<style scoped>\n",
       "    .dataframe tbody tr th:only-of-type {\n",
       "        vertical-align: middle;\n",
       "    }\n",
       "\n",
       "    .dataframe tbody tr th {\n",
       "        vertical-align: top;\n",
       "    }\n",
       "\n",
       "    .dataframe thead th {\n",
       "        text-align: right;\n",
       "    }\n",
       "</style>\n",
       "<table border=\"1\" class=\"dataframe\">\n",
       "  <thead>\n",
       "    <tr style=\"text-align: right;\">\n",
       "      <th></th>\n",
       "      <th>nconst</th>\n",
       "      <th>primary_name</th>\n",
       "      <th>birth_year</th>\n",
       "      <th>death_year</th>\n",
       "      <th>primary_profession</th>\n",
       "      <th>known_for_titles</th>\n",
       "      <th>tconst</th>\n",
       "      <th>ordering</th>\n",
       "      <th>category</th>\n",
       "      <th>job</th>\n",
       "      <th>characters</th>\n",
       "    </tr>\n",
       "  </thead>\n",
       "  <tbody>\n",
       "    <tr>\n",
       "      <th>0</th>\n",
       "      <td>nm0061671</td>\n",
       "      <td>Mary Ellen Bauder</td>\n",
       "      <td>NaN</td>\n",
       "      <td>NaN</td>\n",
       "      <td>miscellaneous,production_manager,producer</td>\n",
       "      <td>tt0837562,tt2398241,tt0844471,tt0118553</td>\n",
       "      <td>tt2398241</td>\n",
       "      <td>9</td>\n",
       "      <td>producer</td>\n",
       "      <td>producer</td>\n",
       "      <td>NaN</td>\n",
       "    </tr>\n",
       "    <tr>\n",
       "      <th>1</th>\n",
       "      <td>nm0061865</td>\n",
       "      <td>Joseph Bauer</td>\n",
       "      <td>NaN</td>\n",
       "      <td>NaN</td>\n",
       "      <td>composer,music_department,sound_department</td>\n",
       "      <td>tt0896534,tt6791238,tt0287072,tt1682940</td>\n",
       "      <td>tt0433397</td>\n",
       "      <td>7</td>\n",
       "      <td>composer</td>\n",
       "      <td>NaN</td>\n",
       "      <td>NaN</td>\n",
       "    </tr>\n",
       "    <tr>\n",
       "      <th>2</th>\n",
       "      <td>nm0061865</td>\n",
       "      <td>Joseph Bauer</td>\n",
       "      <td>NaN</td>\n",
       "      <td>NaN</td>\n",
       "      <td>composer,music_department,sound_department</td>\n",
       "      <td>tt0896534,tt6791238,tt0287072,tt1682940</td>\n",
       "      <td>tt1681372</td>\n",
       "      <td>8</td>\n",
       "      <td>composer</td>\n",
       "      <td>NaN</td>\n",
       "      <td>NaN</td>\n",
       "    </tr>\n",
       "    <tr>\n",
       "      <th>3</th>\n",
       "      <td>nm0061865</td>\n",
       "      <td>Joseph Bauer</td>\n",
       "      <td>NaN</td>\n",
       "      <td>NaN</td>\n",
       "      <td>composer,music_department,sound_department</td>\n",
       "      <td>tt0896534,tt6791238,tt0287072,tt1682940</td>\n",
       "      <td>tt2387710</td>\n",
       "      <td>8</td>\n",
       "      <td>composer</td>\n",
       "      <td>NaN</td>\n",
       "      <td>NaN</td>\n",
       "    </tr>\n",
       "    <tr>\n",
       "      <th>4</th>\n",
       "      <td>nm0061865</td>\n",
       "      <td>Joseph Bauer</td>\n",
       "      <td>NaN</td>\n",
       "      <td>NaN</td>\n",
       "      <td>composer,music_department,sound_department</td>\n",
       "      <td>tt0896534,tt6791238,tt0287072,tt1682940</td>\n",
       "      <td>tt2281215</td>\n",
       "      <td>7</td>\n",
       "      <td>composer</td>\n",
       "      <td>NaN</td>\n",
       "      <td>NaN</td>\n",
       "    </tr>\n",
       "    <tr>\n",
       "      <th>...</th>\n",
       "      <td>...</td>\n",
       "      <td>...</td>\n",
       "      <td>...</td>\n",
       "      <td>...</td>\n",
       "      <td>...</td>\n",
       "      <td>...</td>\n",
       "      <td>...</td>\n",
       "      <td>...</td>\n",
       "      <td>...</td>\n",
       "      <td>...</td>\n",
       "      <td>...</td>\n",
       "    </tr>\n",
       "    <tr>\n",
       "      <th>1027907</th>\n",
       "      <td>nm9990381</td>\n",
       "      <td>Susan Grobes</td>\n",
       "      <td>NaN</td>\n",
       "      <td>NaN</td>\n",
       "      <td>actress</td>\n",
       "      <td>NaN</td>\n",
       "      <td>tt6527982</td>\n",
       "      <td>2</td>\n",
       "      <td>actress</td>\n",
       "      <td>NaN</td>\n",
       "      <td>[\"Cheryl\",\"Gypsy\"]</td>\n",
       "    </tr>\n",
       "    <tr>\n",
       "      <th>1027908</th>\n",
       "      <td>nm9990690</td>\n",
       "      <td>Joo Yeon So</td>\n",
       "      <td>NaN</td>\n",
       "      <td>NaN</td>\n",
       "      <td>actress</td>\n",
       "      <td>tt9090932,tt8737130</td>\n",
       "      <td>tt8737130</td>\n",
       "      <td>4</td>\n",
       "      <td>actress</td>\n",
       "      <td>NaN</td>\n",
       "      <td>NaN</td>\n",
       "    </tr>\n",
       "    <tr>\n",
       "      <th>1027909</th>\n",
       "      <td>nm9991320</td>\n",
       "      <td>Madeline Smith</td>\n",
       "      <td>NaN</td>\n",
       "      <td>NaN</td>\n",
       "      <td>actress</td>\n",
       "      <td>tt8734436,tt9615610</td>\n",
       "      <td>tt8734436</td>\n",
       "      <td>3</td>\n",
       "      <td>actress</td>\n",
       "      <td>NaN</td>\n",
       "      <td>[\"Anna\"]</td>\n",
       "    </tr>\n",
       "    <tr>\n",
       "      <th>1027910</th>\n",
       "      <td>nm9991786</td>\n",
       "      <td>Michelle Modigliani</td>\n",
       "      <td>NaN</td>\n",
       "      <td>NaN</td>\n",
       "      <td>producer</td>\n",
       "      <td>NaN</td>\n",
       "      <td>tt8739240</td>\n",
       "      <td>9</td>\n",
       "      <td>producer</td>\n",
       "      <td>producer</td>\n",
       "      <td>NaN</td>\n",
       "    </tr>\n",
       "    <tr>\n",
       "      <th>1027911</th>\n",
       "      <td>nm9993380</td>\n",
       "      <td>Pegasus Envoyé</td>\n",
       "      <td>NaN</td>\n",
       "      <td>NaN</td>\n",
       "      <td>director,actor,writer</td>\n",
       "      <td>tt8743182</td>\n",
       "      <td>tt8743182</td>\n",
       "      <td>5</td>\n",
       "      <td>director</td>\n",
       "      <td>NaN</td>\n",
       "      <td>NaN</td>\n",
       "    </tr>\n",
       "  </tbody>\n",
       "</table>\n",
       "<p>1027912 rows × 11 columns</p>\n",
       "</div>"
      ],
      "text/plain": [
       "            nconst         primary_name  birth_year  death_year  \\\n",
       "0        nm0061671    Mary Ellen Bauder         NaN         NaN   \n",
       "1        nm0061865         Joseph Bauer         NaN         NaN   \n",
       "2        nm0061865         Joseph Bauer         NaN         NaN   \n",
       "3        nm0061865         Joseph Bauer         NaN         NaN   \n",
       "4        nm0061865         Joseph Bauer         NaN         NaN   \n",
       "...            ...                  ...         ...         ...   \n",
       "1027907  nm9990381         Susan Grobes         NaN         NaN   \n",
       "1027908  nm9990690          Joo Yeon So         NaN         NaN   \n",
       "1027909  nm9991320       Madeline Smith         NaN         NaN   \n",
       "1027910  nm9991786  Michelle Modigliani         NaN         NaN   \n",
       "1027911  nm9993380       Pegasus Envoyé         NaN         NaN   \n",
       "\n",
       "                                 primary_profession  \\\n",
       "0         miscellaneous,production_manager,producer   \n",
       "1        composer,music_department,sound_department   \n",
       "2        composer,music_department,sound_department   \n",
       "3        composer,music_department,sound_department   \n",
       "4        composer,music_department,sound_department   \n",
       "...                                             ...   \n",
       "1027907                                     actress   \n",
       "1027908                                     actress   \n",
       "1027909                                     actress   \n",
       "1027910                                    producer   \n",
       "1027911                       director,actor,writer   \n",
       "\n",
       "                                known_for_titles     tconst  ordering  \\\n",
       "0        tt0837562,tt2398241,tt0844471,tt0118553  tt2398241         9   \n",
       "1        tt0896534,tt6791238,tt0287072,tt1682940  tt0433397         7   \n",
       "2        tt0896534,tt6791238,tt0287072,tt1682940  tt1681372         8   \n",
       "3        tt0896534,tt6791238,tt0287072,tt1682940  tt2387710         8   \n",
       "4        tt0896534,tt6791238,tt0287072,tt1682940  tt2281215         7   \n",
       "...                                          ...        ...       ...   \n",
       "1027907                                      NaN  tt6527982         2   \n",
       "1027908                      tt9090932,tt8737130  tt8737130         4   \n",
       "1027909                      tt8734436,tt9615610  tt8734436         3   \n",
       "1027910                                      NaN  tt8739240         9   \n",
       "1027911                                tt8743182  tt8743182         5   \n",
       "\n",
       "         category       job          characters  \n",
       "0        producer  producer                 NaN  \n",
       "1        composer       NaN                 NaN  \n",
       "2        composer       NaN                 NaN  \n",
       "3        composer       NaN                 NaN  \n",
       "4        composer       NaN                 NaN  \n",
       "...           ...       ...                 ...  \n",
       "1027907   actress       NaN  [\"Cheryl\",\"Gypsy\"]  \n",
       "1027908   actress       NaN                 NaN  \n",
       "1027909   actress       NaN            [\"Anna\"]  \n",
       "1027910  producer  producer                 NaN  \n",
       "1027911  director       NaN                 NaN  \n",
       "\n",
       "[1027912 rows x 11 columns]"
      ]
     },
     "execution_count": 34,
     "metadata": {},
     "output_type": "execute_result"
    }
   ],
   "source": [
    "#Merging names and principals dataframes.\n",
    "df_names_principals = df_names.merge(df_principals)\n",
    "df_names_principals"
   ]
  },
  {
   "cell_type": "code",
   "execution_count": 35,
   "metadata": {
    "ExecuteTime": {
     "end_time": "2021-08-20T20:05:35.065773Z",
     "start_time": "2021-08-20T20:05:34.851310Z"
    }
   },
   "outputs": [],
   "source": [
    "#Dropping unnecessary and missing columns.\n",
    "df_names_principals.drop(['primary_profession','birth_year','death_year','known_for_titles','job','characters']\n",
    "                         ,axis=1,inplace=True)"
   ]
  },
  {
   "cell_type": "code",
   "execution_count": 36,
   "metadata": {
    "ExecuteTime": {
     "end_time": "2021-08-20T20:05:35.129160Z",
     "start_time": "2021-08-20T20:05:35.066771Z"
    }
   },
   "outputs": [],
   "source": [
    "#Creating directors dataframe.\n",
    "df_directors = df_names_principals.loc[df_names_principals['category']=='director']"
   ]
  },
  {
   "cell_type": "code",
   "execution_count": 37,
   "metadata": {
    "ExecuteTime": {
     "end_time": "2021-08-20T20:05:35.144853Z",
     "start_time": "2021-08-20T20:05:35.131155Z"
    },
    "scrolled": false
   },
   "outputs": [
    {
     "data": {
      "text/html": [
       "<div>\n",
       "<style scoped>\n",
       "    .dataframe tbody tr th:only-of-type {\n",
       "        vertical-align: middle;\n",
       "    }\n",
       "\n",
       "    .dataframe tbody tr th {\n",
       "        vertical-align: top;\n",
       "    }\n",
       "\n",
       "    .dataframe thead th {\n",
       "        text-align: right;\n",
       "    }\n",
       "</style>\n",
       "<table border=\"1\" class=\"dataframe\">\n",
       "  <thead>\n",
       "    <tr style=\"text-align: right;\">\n",
       "      <th></th>\n",
       "      <th>nconst</th>\n",
       "      <th>primary_name</th>\n",
       "      <th>tconst</th>\n",
       "      <th>ordering</th>\n",
       "      <th>category</th>\n",
       "    </tr>\n",
       "  </thead>\n",
       "  <tbody>\n",
       "    <tr>\n",
       "      <th>12</th>\n",
       "      <td>nm0062879</td>\n",
       "      <td>Ruel S. Bayani</td>\n",
       "      <td>tt2057445</td>\n",
       "      <td>5</td>\n",
       "      <td>director</td>\n",
       "    </tr>\n",
       "    <tr>\n",
       "      <th>13</th>\n",
       "      <td>nm0062879</td>\n",
       "      <td>Ruel S. Bayani</td>\n",
       "      <td>tt1592569</td>\n",
       "      <td>5</td>\n",
       "      <td>director</td>\n",
       "    </tr>\n",
       "    <tr>\n",
       "      <th>14</th>\n",
       "      <td>nm0062879</td>\n",
       "      <td>Ruel S. Bayani</td>\n",
       "      <td>tt2590280</td>\n",
       "      <td>5</td>\n",
       "      <td>director</td>\n",
       "    </tr>\n",
       "    <tr>\n",
       "      <th>15</th>\n",
       "      <td>nm0062879</td>\n",
       "      <td>Ruel S. Bayani</td>\n",
       "      <td>tt8421806</td>\n",
       "      <td>5</td>\n",
       "      <td>director</td>\n",
       "    </tr>\n",
       "    <tr>\n",
       "      <th>48</th>\n",
       "      <td>nm0064023</td>\n",
       "      <td>Bryan Beasley</td>\n",
       "      <td>tt3501180</td>\n",
       "      <td>2</td>\n",
       "      <td>director</td>\n",
       "    </tr>\n",
       "    <tr>\n",
       "      <th>...</th>\n",
       "      <td>...</td>\n",
       "      <td>...</td>\n",
       "      <td>...</td>\n",
       "      <td>...</td>\n",
       "      <td>...</td>\n",
       "    </tr>\n",
       "    <tr>\n",
       "      <th>1027881</th>\n",
       "      <td>nm9971456</td>\n",
       "      <td>Zheng Wei</td>\n",
       "      <td>tt8697720</td>\n",
       "      <td>1</td>\n",
       "      <td>director</td>\n",
       "    </tr>\n",
       "    <tr>\n",
       "      <th>1027889</th>\n",
       "      <td>nm9980896</td>\n",
       "      <td>Rama Narayanan</td>\n",
       "      <td>tt8715016</td>\n",
       "      <td>5</td>\n",
       "      <td>director</td>\n",
       "    </tr>\n",
       "    <tr>\n",
       "      <th>1027890</th>\n",
       "      <td>nm9980896</td>\n",
       "      <td>Rama Narayanan</td>\n",
       "      <td>tt8919136</td>\n",
       "      <td>5</td>\n",
       "      <td>director</td>\n",
       "    </tr>\n",
       "    <tr>\n",
       "      <th>1027891</th>\n",
       "      <td>nm9981679</td>\n",
       "      <td>Samir Eshra</td>\n",
       "      <td>tt8717234</td>\n",
       "      <td>1</td>\n",
       "      <td>director</td>\n",
       "    </tr>\n",
       "    <tr>\n",
       "      <th>1027911</th>\n",
       "      <td>nm9993380</td>\n",
       "      <td>Pegasus Envoyé</td>\n",
       "      <td>tt8743182</td>\n",
       "      <td>5</td>\n",
       "      <td>director</td>\n",
       "    </tr>\n",
       "  </tbody>\n",
       "</table>\n",
       "<p>146393 rows × 5 columns</p>\n",
       "</div>"
      ],
      "text/plain": [
       "            nconst    primary_name     tconst  ordering  category\n",
       "12       nm0062879  Ruel S. Bayani  tt2057445         5  director\n",
       "13       nm0062879  Ruel S. Bayani  tt1592569         5  director\n",
       "14       nm0062879  Ruel S. Bayani  tt2590280         5  director\n",
       "15       nm0062879  Ruel S. Bayani  tt8421806         5  director\n",
       "48       nm0064023   Bryan Beasley  tt3501180         2  director\n",
       "...            ...             ...        ...       ...       ...\n",
       "1027881  nm9971456       Zheng Wei  tt8697720         1  director\n",
       "1027889  nm9980896  Rama Narayanan  tt8715016         5  director\n",
       "1027890  nm9980896  Rama Narayanan  tt8919136         5  director\n",
       "1027891  nm9981679     Samir Eshra  tt8717234         1  director\n",
       "1027911  nm9993380  Pegasus Envoyé  tt8743182         5  director\n",
       "\n",
       "[146393 rows x 5 columns]"
      ]
     },
     "execution_count": 37,
     "metadata": {},
     "output_type": "execute_result"
    }
   ],
   "source": [
    "df_directors"
   ]
  },
  {
   "cell_type": "code",
   "execution_count": 38,
   "metadata": {
    "ExecuteTime": {
     "end_time": "2021-08-20T20:05:35.376233Z",
     "start_time": "2021-08-20T20:05:35.145848Z"
    }
   },
   "outputs": [],
   "source": [
    "#Merging to dataframes to merge another one.\n",
    "titles_directors = df_directors.merge(df_titles)\n",
    "\n",
    "#Renaming column name to merge on df_budgets dataframe.\n",
    "titles_directors.rename(columns={'title':'movie'},inplace=True)\n",
    "\n",
    "#Merging third dataframe.\n",
    "budget_and_directors = titles_directors.merge(df_budgets)"
   ]
  },
  {
   "cell_type": "code",
   "execution_count": 39,
   "metadata": {
    "ExecuteTime": {
     "end_time": "2021-08-20T20:05:35.391624Z",
     "start_time": "2021-08-20T20:05:35.377230Z"
    }
   },
   "outputs": [],
   "source": [
    "#Sorting dataframe by descending worldwide gross.\n",
    "budget_and_directors.sort_values(by='worldwide_gross',ascending=False,inplace=True)"
   ]
  },
  {
   "cell_type": "code",
   "execution_count": 40,
   "metadata": {
    "ExecuteTime": {
     "end_time": "2021-08-20T20:05:35.623006Z",
     "start_time": "2021-08-20T20:05:35.393587Z"
    },
    "scrolled": false
   },
   "outputs": [
    {
     "data": {
      "text/plain": [
       "Text(0, 0.5, 'Directors')"
      ]
     },
     "execution_count": 40,
     "metadata": {},
     "output_type": "execute_result"
    },
    {
     "data": {
      "image/png": "[encoded data removed]",
      "text/plain": [
       "<Figure size 864x576 with 1 Axes>"
      ]
     },
     "metadata": {},
     "output_type": "display_data"
    }
   ],
   "source": [
    "grouped_directors = budget_and_directors.groupby('primary_name').sum()\n",
    "sorted_directors = grouped_directors.sort_values(by='worldwide_gross',ascending=True)\n",
    "\n",
    "colors=[]\n",
    "[colors.append('lightseagreen') if ((i =='Anthony Russo')or (i=='Joe Russo')or(i=='Christopher Nolan')or(i=='James Wan'))\n",
    " else colors.append('gray')for i in sorted_directors.tail(20).index]\n",
    "\n",
    "fig , ax = plt.subplots(figsize=(12,8))\n",
    "ax.barh(sorted_directors.tail(20).index,sorted_directors.tail(20)['worldwide_gross'] ,color=colors)\n",
    "ax.set_title('Highest-grossing film directors',fontsize=20)\n",
    "ax.set_xlabel('Gross',fontsize=16)\n",
    "ax.set_ylabel('Directors',fontsize=16)"
   ]
  },
  {
   "cell_type": "markdown",
   "metadata": {},
   "source": [
    "## Conclusion : \n",
    "\n",
    "    As seems in first visualization BV, Fox, WB, Uni. made most revenue movies at all time. And at the second visualization same studios leads at the popularity.\n",
    "    \n",
    "    At the section 3.2 shows us most made types of movies as Drama,Comedy and Action as general. If we want to look top 3 most revenue and popular studios made movie types ; it seems Drama,Action,Adventure and Comedy.\n",
    "    \n",
    "    At the section 3.3 we can see there is positive relationship between budget and revenue. Also for more information about budget second visualization at this section 3 category of budget shows us more budget provides to more revenue.\n",
    "    \n",
    "    Lastly it seems Russo brothers(Avengers: Endgame), Christopher Nolan(The Dark Knight Rises) and James Wan(Furious 7) have the most revenue.\n",
    "    \n",
    "    We can recommend to new studio to make movie with one of these directors, on action,adventure,comedy or drama.And give as much as possible budget. And further look what BV and Fox studios are doing to have most revenue and become most popular."
   ]
  },
  {
   "cell_type": "code",
   "execution_count": null,
   "metadata": {},
   "outputs": [],
   "source": []
  }
 ],
 "metadata": {
  "kernelspec": {
   "display_name": "Python 3",
   "language": "python",
   "name": "python3"
  },
  "language_info": {
   "codemirror_mode": {
    "name": "ipython",
    "version": 3
   },
   "file_extension": ".py",
   "mimetype": "text/x-python",
   "name": "python",
   "nbconvert_exporter": "python",
   "pygments_lexer": "ipython3",
   "version": "3.8.5"
  },
  "toc": {
   "base_numbering": 1,
   "nav_menu": {},
   "number_sections": true,
   "sideBar": true,
   "skip_h1_title": false,
   "title_cell": "Table of Contents",
   "title_sidebar": "Contents",
   "toc_cell": false,
   "toc_position": {
    "height": "calc(100% - 180px)",
    "left": "10px",
    "top": "150px",
    "width": "287px"
   },
   "toc_section_display": true,
   "toc_window_display": true
  }
 },
 "nbformat": 4,
 "nbformat_minor": 2
}
