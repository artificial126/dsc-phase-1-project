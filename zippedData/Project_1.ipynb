{
 "cells": [
  {
   "cell_type": "code",
   "execution_count": 1,
   "id": "5a60a34e",
   "metadata": {},
   "outputs": [
    {
     "name": "stdout",
     "output_type": "stream",
     "text": [
      "C:\\Users\\AI\n"
     ]
    }
   ],
   "source": [
    "cd"
   ]
  },
  {
   "cell_type": "code",
   "execution_count": 2,
   "id": "47bb95ea",
   "metadata": {},
   "outputs": [
    {
     "name": "stdout",
     "output_type": "stream",
     "text": [
      "C:\\Users\\AI\\Desktop\\Flatiron\\Phase_1\n"
     ]
    }
   ],
   "source": [
    "cd Desktop/Flatiron/Phase_1/"
   ]
  },
  {
   "cell_type": "code",
   "execution_count": 3,
   "id": "fa248687",
   "metadata": {},
   "outputs": [
    {
     "name": "stdout",
     "output_type": "stream",
     "text": [
      "C:\\Users\\AI\\Desktop\\Flatiron\\Phase_1\\dsc-phase-1-project\n"
     ]
    }
   ],
   "source": [
    "cd dsc-phase-1-project/\n"
   ]
  },
  {
   "cell_type": "code",
   "execution_count": 4,
   "id": "254c58b9",
   "metadata": {},
   "outputs": [
    {
     "name": "stdout",
     "output_type": "stream",
     "text": [
      " Volume in drive C has no label.\n",
      " Volume Serial Number is 4E05-06D0\n",
      "\n",
      " Directory of C:\\Users\\AI\\Desktop\\Flatiron\\Phase_1\\dsc-phase-1-project\n",
      "\n",
      "08/06/2021  11:10 AM    <DIR>          .\n",
      "08/06/2021  11:10 AM    <DIR>          ..\n",
      "08/06/2021  11:09 AM               152 .canvas\n",
      "08/06/2021  11:09 AM                80 .gitignore\n",
      "08/06/2021  11:10 AM    <DIR>          .ipynb_checkpoints\n",
      "08/06/2021  11:09 AM         1,425,341 awesome.gif\n",
      "08/06/2021  11:09 AM             1,846 CONTRIBUTING.md\n",
      "08/06/2021  11:09 AM             1,357 LICENSE.md\n",
      "08/06/2021  11:09 AM             4,676 README.md\n",
      "08/06/2021  11:10 AM               974 student.ipynb\n",
      "08/06/2021  11:10 AM               588 Untitled.ipynb\n",
      "08/09/2021  02:24 PM    <DIR>          zippedData\n",
      "               8 File(s)      1,435,014 bytes\n",
      "               4 Dir(s)  260,989,665,280 bytes free\n"
     ]
    }
   ],
   "source": [
    "ls"
   ]
  },
  {
   "cell_type": "code",
   "execution_count": 5,
   "id": "d7043afd",
   "metadata": {},
   "outputs": [
    {
     "name": "stdout",
     "output_type": "stream",
     "text": [
      "C:\\Users\\AI\\Desktop\\Flatiron\\Phase_1\\dsc-phase-1-project\\zippedData\n"
     ]
    }
   ],
   "source": [
    "cd zippedData"
   ]
  },
  {
   "cell_type": "code",
   "execution_count": 6,
   "id": "20f0ea46",
   "metadata": {},
   "outputs": [
    {
     "name": "stdout",
     "output_type": "stream",
     "text": [
      " Volume in drive C has no label.\n",
      " Volume Serial Number is 4E05-06D0\n",
      "\n",
      " Directory of C:\\Users\\AI\\Desktop\\Flatiron\\Phase_1\\dsc-phase-1-project\\zippedData\n",
      "\n",
      "08/09/2021  02:24 PM    <DIR>          .\n",
      "08/09/2021  02:24 PM    <DIR>          ..\n",
      "08/09/2021  11:49 AM    <DIR>          .ipynb_checkpoints\n",
      "08/06/2021  11:09 AM            53,544 bom.movie_gross.csv.gz\n",
      "08/06/2021  11:09 AM        18,070,960 imdb.name.basics.csv.gz\n",
      "08/06/2021  11:09 AM         5,599,979 imdb.title.akas.csv.gz\n",
      "08/06/2021  11:09 AM         3,459,897 imdb.title.basics.csv.gz\n",
      "08/06/2021  11:09 AM         1,898,523 imdb.title.crew.csv.gz\n",
      "08/06/2021  11:09 AM        12,287,583 imdb.title.principals.csv.gz\n",
      "08/06/2021  11:09 AM           539,530 imdb.title.ratings.csv.gz\n",
      "08/09/2021  02:24 PM            16,658 Project_1.ipynb\n",
      "08/06/2021  11:09 AM           498,202 rt.movie_info.tsv.gz\n",
      "08/06/2021  11:09 AM         3,402,194 rt.reviews.tsv.gz\n",
      "08/06/2021  11:09 AM           827,840 tmdb.movies.csv.gz\n",
      "08/06/2021  11:09 AM           153,218 tn.movie_budgets.csv.gz\n",
      "              12 File(s)     46,808,128 bytes\n",
      "               3 Dir(s)  260,989,665,280 bytes free\n"
     ]
    }
   ],
   "source": [
    "ls"
   ]
  },
  {
   "cell_type": "code",
   "execution_count": 7,
   "id": "9b25e243",
   "metadata": {},
   "outputs": [],
   "source": [
    "import pandas as pd\n",
    "import matplotlib.pyplot as plt\n",
    "%matplotlib inline"
   ]
  },
  {
   "cell_type": "code",
   "execution_count": 8,
   "id": "054054cc",
   "metadata": {},
   "outputs": [],
   "source": [
    "df = pd.read_csv('imdb.title.basics.csv.gz')\n",
    "df1= pd.read_csv('imdb.name.basics.csv.gz')"
   ]
  },
  {
   "cell_type": "code",
   "execution_count": 9,
   "id": "d3fd2dfe",
   "metadata": {},
   "outputs": [],
   "source": [
    "df2= pd.read_csv('imdb.title.akas.csv.gz')\n",
    "df3= pd.read_csv('imdb.title.crew.csv.gz')"
   ]
  },
  {
   "cell_type": "code",
   "execution_count": 10,
   "id": "109bd29d",
   "metadata": {},
   "outputs": [],
   "source": [
    "df4= pd.read_csv('imdb.title.principals.csv.gz')\n",
    "df5= pd.read_csv('imdb.title.ratings.csv.gz')"
   ]
  },
  {
   "cell_type": "code",
   "execution_count": 11,
   "id": "66e194b3",
   "metadata": {},
   "outputs": [
    {
     "data": {
      "text/plain": [
       "Index(['tconst', 'primary_title', 'original_title', 'start_year',\n",
       "       'runtime_minutes', 'genres'],\n",
       "      dtype='object')"
      ]
     },
     "execution_count": 11,
     "metadata": {},
     "output_type": "execute_result"
    }
   ],
   "source": [
    "df.columns"
   ]
  },
  {
   "cell_type": "code",
   "execution_count": 18,
   "id": "d5d20b1b",
   "metadata": {},
   "outputs": [],
   "source": [
    "df_head = df.head()"
   ]
  },
  {
   "cell_type": "code",
   "execution_count": 20,
   "id": "3e5b9322",
   "metadata": {},
   "outputs": [
    {
     "data": {
      "text/plain": [
       "0    2013\n",
       "1    2019\n",
       "2    2018\n",
       "3    2018\n",
       "4    2017\n",
       "Name: start_year, dtype: int64"
      ]
     },
     "execution_count": 20,
     "metadata": {},
     "output_type": "execute_result"
    }
   ],
   "source": [
    "df_head['start_year']"
   ]
  },
  {
   "cell_type": "code",
   "execution_count": 19,
   "id": "12263092",
   "metadata": {},
   "outputs": [
    {
     "data": {
      "text/plain": [
       "<BarContainer object of 5 artists>"
      ]
     },
     "execution_count": 19,
     "metadata": {},
     "output_type": "execute_result"
    },
    {
     "data": {
      "image/png": "[encoded data removed]",
      "text/plain": [
       "<Figure size 432x288 with 1 Axes>"
      ]
     },
     "metadata": {
      "needs_background": "light"
     },
     "output_type": "display_data"
    }
   ],
   "source": [
    "fig , ax = plt.subplots()\n",
    "ax.bar(df_head['runtime_minutes'],df_head['start_year'])"
   ]
  },
  {
   "cell_type": "code",
   "execution_count": null,
   "id": "b6854a04",
   "metadata": {},
   "outputs": [],
   "source": [
    "df1.head()"
   ]
  },
  {
   "cell_type": "code",
   "execution_count": null,
   "id": "1e7d4ae8",
   "metadata": {},
   "outputs": [],
   "source": [
    "df2.head()"
   ]
  },
  {
   "cell_type": "code",
   "execution_count": null,
   "id": "703ad2e0",
   "metadata": {},
   "outputs": [],
   "source": [
    "df5.head()"
   ]
  },
  {
   "cell_type": "code",
   "execution_count": null,
   "id": "3e296a80",
   "metadata": {},
   "outputs": [],
   "source": []
  }
 ],
 "metadata": {
  "kernelspec": {
   "display_name": "Python (learn-env)",
   "language": "python",
   "name": "learn-env"
  },
  "language_info": {
   "codemirror_mode": {
    "name": "ipython",
    "version": 3
   },
   "file_extension": ".py",
   "mimetype": "text/x-python",
   "name": "python",
   "nbconvert_exporter": "python",
   "pygments_lexer": "ipython3",
   "version": "3.8.8"
  }
 },
 "nbformat": 4,
 "nbformat_minor": 5
}
